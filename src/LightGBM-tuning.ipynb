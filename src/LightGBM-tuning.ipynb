{
 "cells": [
  {
   "cell_type": "code",
   "execution_count": 5,
   "id": "4020b2f6",
   "metadata": {},
   "outputs": [],
   "source": [
    "#Loading libraries \n",
    "import pandas as pd\n",
    "import numpy as np\n",
    "import matplotlib.pyplot as plt\n",
    "import seaborn as sns\n",
    "from sklearn.preprocessing import MinMaxScaler \n",
    "import lightgbm as lgb\n",
    "from sklearn.feature_selection import SelectFromModel\n",
    "from sklearn.model_selection import train_test_split, GridSearchCV\n",
    "from sklearn.metrics import precision_score, recall_score, f1_score, confusion_matrix\n",
    "from sklearn.metrics import accuracy_score, roc_auc_score\n",
    "import re\n",
    "import warnings\n",
    "warnings.filterwarnings(\"ignore\")"
   ]
  },
  {
   "cell_type": "code",
   "execution_count": 21,
   "id": "14d0eb43",
   "metadata": {},
   "outputs": [],
   "source": [
    "data = pd.read_csv('../data/processed_diabetes_data.csv').drop(columns=[\"Unnamed: 0\"], axis=1)"
   ]
  },
  {
   "cell_type": "code",
   "execution_count": 22,
   "id": "a52f61e0",
   "metadata": {
    "scrolled": true
   },
   "outputs": [
    {
     "name": "stdout",
     "output_type": "stream",
     "text": [
      "Class 0 (reamitted = 0):  90406\n",
      "Resampled Class 0 (readmitted = 0):  27122\n",
      "Class 1 (readmitted = 1):  11357\n"
     ]
    },
    {
     "data": {
      "text/html": [
       "<div>\n",
       "<style scoped>\n",
       "    .dataframe tbody tr th:only-of-type {\n",
       "        vertical-align: middle;\n",
       "    }\n",
       "\n",
       "    .dataframe tbody tr th {\n",
       "        vertical-align: top;\n",
       "    }\n",
       "\n",
       "    .dataframe thead th {\n",
       "        text-align: right;\n",
       "    }\n",
       "</style>\n",
       "<table border=\"1\" class=\"dataframe\">\n",
       "  <thead>\n",
       "    <tr style=\"text-align: right;\">\n",
       "      <th></th>\n",
       "      <th>encounter_id</th>\n",
       "      <th>patient_nbr</th>\n",
       "      <th>age</th>\n",
       "      <th>time_in_hospital</th>\n",
       "      <th>num_lab_procedures</th>\n",
       "      <th>num_procedures</th>\n",
       "      <th>num_medications</th>\n",
       "      <th>number_outpatient</th>\n",
       "      <th>number_emergency</th>\n",
       "      <th>number_inpatient</th>\n",
       "      <th>number_diagnoses</th>\n",
       "      <th>readmitted</th>\n",
       "    </tr>\n",
       "  </thead>\n",
       "  <tbody>\n",
       "    <tr>\n",
       "      <th>count</th>\n",
       "      <td>2.039800e+04</td>\n",
       "      <td>2.039800e+04</td>\n",
       "      <td>20398.000000</td>\n",
       "      <td>20398.000000</td>\n",
       "      <td>20398.000000</td>\n",
       "      <td>20398.000000</td>\n",
       "      <td>20398.000000</td>\n",
       "      <td>20398.000000</td>\n",
       "      <td>20398.000000</td>\n",
       "      <td>20398.000000</td>\n",
       "      <td>20398.000000</td>\n",
       "      <td>20398.000000</td>\n",
       "    </tr>\n",
       "    <tr>\n",
       "      <th>mean</th>\n",
       "      <td>1.638487e+08</td>\n",
       "      <td>5.461274e+07</td>\n",
       "      <td>66.358957</td>\n",
       "      <td>4.567261</td>\n",
       "      <td>43.650750</td>\n",
       "      <td>1.304049</td>\n",
       "      <td>16.461908</td>\n",
       "      <td>0.399010</td>\n",
       "      <td>0.274390</td>\n",
       "      <td>0.930679</td>\n",
       "      <td>7.547701</td>\n",
       "      <td>0.556770</td>\n",
       "    </tr>\n",
       "    <tr>\n",
       "      <th>std</th>\n",
       "      <td>1.021507e+08</td>\n",
       "      <td>3.815692e+07</td>\n",
       "      <td>15.842489</td>\n",
       "      <td>2.991721</td>\n",
       "      <td>19.391822</td>\n",
       "      <td>1.675263</td>\n",
       "      <td>8.098719</td>\n",
       "      <td>1.269366</td>\n",
       "      <td>1.112869</td>\n",
       "      <td>1.677715</td>\n",
       "      <td>1.864628</td>\n",
       "      <td>0.496779</td>\n",
       "    </tr>\n",
       "    <tr>\n",
       "      <th>min</th>\n",
       "      <td>3.690000e+04</td>\n",
       "      <td>1.350000e+02</td>\n",
       "      <td>5.000000</td>\n",
       "      <td>1.000000</td>\n",
       "      <td>1.000000</td>\n",
       "      <td>0.000000</td>\n",
       "      <td>1.000000</td>\n",
       "      <td>0.000000</td>\n",
       "      <td>0.000000</td>\n",
       "      <td>0.000000</td>\n",
       "      <td>1.000000</td>\n",
       "      <td>0.000000</td>\n",
       "    </tr>\n",
       "    <tr>\n",
       "      <th>25%</th>\n",
       "      <td>8.372208e+07</td>\n",
       "      <td>2.348406e+07</td>\n",
       "      <td>55.000000</td>\n",
       "      <td>2.000000</td>\n",
       "      <td>32.000000</td>\n",
       "      <td>0.000000</td>\n",
       "      <td>11.000000</td>\n",
       "      <td>0.000000</td>\n",
       "      <td>0.000000</td>\n",
       "      <td>0.000000</td>\n",
       "      <td>6.000000</td>\n",
       "      <td>0.000000</td>\n",
       "    </tr>\n",
       "    <tr>\n",
       "      <th>50%</th>\n",
       "      <td>1.508565e+08</td>\n",
       "      <td>4.578551e+07</td>\n",
       "      <td>65.000000</td>\n",
       "      <td>4.000000</td>\n",
       "      <td>44.500000</td>\n",
       "      <td>1.000000</td>\n",
       "      <td>15.000000</td>\n",
       "      <td>0.000000</td>\n",
       "      <td>0.000000</td>\n",
       "      <td>0.000000</td>\n",
       "      <td>9.000000</td>\n",
       "      <td>1.000000</td>\n",
       "    </tr>\n",
       "    <tr>\n",
       "      <th>75%</th>\n",
       "      <td>2.269930e+08</td>\n",
       "      <td>8.776742e+07</td>\n",
       "      <td>75.000000</td>\n",
       "      <td>6.000000</td>\n",
       "      <td>57.000000</td>\n",
       "      <td>2.000000</td>\n",
       "      <td>20.000000</td>\n",
       "      <td>0.000000</td>\n",
       "      <td>0.000000</td>\n",
       "      <td>1.000000</td>\n",
       "      <td>9.000000</td>\n",
       "      <td>1.000000</td>\n",
       "    </tr>\n",
       "    <tr>\n",
       "      <th>max</th>\n",
       "      <td>4.438672e+08</td>\n",
       "      <td>1.889702e+08</td>\n",
       "      <td>95.000000</td>\n",
       "      <td>14.000000</td>\n",
       "      <td>132.000000</td>\n",
       "      <td>6.000000</td>\n",
       "      <td>81.000000</td>\n",
       "      <td>40.000000</td>\n",
       "      <td>64.000000</td>\n",
       "      <td>21.000000</td>\n",
       "      <td>16.000000</td>\n",
       "      <td>1.000000</td>\n",
       "    </tr>\n",
       "  </tbody>\n",
       "</table>\n",
       "</div>"
      ],
      "text/plain": [
       "       encounter_id   patient_nbr           age  time_in_hospital  \\\n",
       "count  2.039800e+04  2.039800e+04  20398.000000      20398.000000   \n",
       "mean   1.638487e+08  5.461274e+07     66.358957          4.567261   \n",
       "std    1.021507e+08  3.815692e+07     15.842489          2.991721   \n",
       "min    3.690000e+04  1.350000e+02      5.000000          1.000000   \n",
       "25%    8.372208e+07  2.348406e+07     55.000000          2.000000   \n",
       "50%    1.508565e+08  4.578551e+07     65.000000          4.000000   \n",
       "75%    2.269930e+08  8.776742e+07     75.000000          6.000000   \n",
       "max    4.438672e+08  1.889702e+08     95.000000         14.000000   \n",
       "\n",
       "       num_lab_procedures  num_procedures  num_medications  number_outpatient  \\\n",
       "count        20398.000000    20398.000000     20398.000000       20398.000000   \n",
       "mean            43.650750        1.304049        16.461908           0.399010   \n",
       "std             19.391822        1.675263         8.098719           1.269366   \n",
       "min              1.000000        0.000000         1.000000           0.000000   \n",
       "25%             32.000000        0.000000        11.000000           0.000000   \n",
       "50%             44.500000        1.000000        15.000000           0.000000   \n",
       "75%             57.000000        2.000000        20.000000           0.000000   \n",
       "max            132.000000        6.000000        81.000000          40.000000   \n",
       "\n",
       "       number_emergency  number_inpatient  number_diagnoses    readmitted  \n",
       "count      20398.000000      20398.000000      20398.000000  20398.000000  \n",
       "mean           0.274390          0.930679          7.547701      0.556770  \n",
       "std            1.112869          1.677715          1.864628      0.496779  \n",
       "min            0.000000          0.000000          1.000000      0.000000  \n",
       "25%            0.000000          0.000000          6.000000      0.000000  \n",
       "50%            0.000000          0.000000          9.000000      1.000000  \n",
       "75%            0.000000          1.000000          9.000000      1.000000  \n",
       "max           64.000000         21.000000         16.000000      1.000000  "
      ]
     },
     "execution_count": 22,
     "metadata": {},
     "output_type": "execute_result"
    }
   ],
   "source": [
    "class0 = data[data[\"readmitted\"] == 0]\n",
    "class1 = data[data[\"readmitted\"] == 1]\n",
    "majorityCount = class0.shape[0]\n",
    "minorityCount = class1.shape[0]\n",
    "class0_sampled = class0.sample(frac=0.3, random_state=42)\n",
    "print(\"Class 0 (reamitted = 0): \", majorityCount)\n",
    "print(\"Resampled Class 0 (readmitted = 0): \", class0_sampled.shape[0])\n",
    "print(\"Class 1 (readmitted = 1): \", minorityCount)\n",
    "class0_under_sampled = class0.sample(frac=0.1, random_state=42)\n",
    "sampled_df = pd.concat([class0_under_sampled, class1])\n",
    "sampled_df.describe()"
   ]
  },
  {
   "cell_type": "code",
   "execution_count": 23,
   "id": "9df3c123",
   "metadata": {},
   "outputs": [
    {
     "name": "stdout",
     "output_type": "stream",
     "text": [
      "Numerical Columns:\n",
      "['encounter_id', 'patient_nbr', 'age', 'time_in_hospital', 'num_lab_procedures', 'num_procedures', 'num_medications', 'number_outpatient', 'number_emergency', 'number_inpatient', 'number_diagnoses', 'readmitted']\n",
      "\n",
      "Object (Categorical) Columns:\n",
      "['race', 'gender', 'weight', 'admission_type_id', 'discharge_disposition_id', 'admission_source_id', 'diag_1', 'diag_2', 'diag_3', 'max_glu_serum', 'A1Cresult', 'metformin', 'repaglinide', 'nateglinide', 'chlorpropamide', 'glimepiride', 'glipizide', 'glyburide', 'pioglitazone', 'rosiglitazone', 'acarbose', 'miglitol', 'insulin', 'glyburide-metformin', 'change', 'diabetesMed']\n"
     ]
    }
   ],
   "source": [
    "numerical_columns = sampled_df.select_dtypes(include=['float64']).astype(int).columns.tolist()\n",
    "object_columns = sampled_df.select_dtypes(include=['object']).columns.tolist()\n",
    "print(\"Numerical Columns:\")\n",
    "print(numerical_columns)\n",
    "\n",
    "print(\"\\nObject (Categorical) Columns:\")\n",
    "print(object_columns)\n",
    "object_columns = sampled_df.select_dtypes(include=['object']).columns.tolist()\n",
    "object_columns\n",
    "sampled_df = pd.get_dummies(sampled_df, columns=object_columns, dtype=int)"
   ]
  },
  {
   "cell_type": "code",
   "execution_count": 24,
   "id": "0a53ac12",
   "metadata": {},
   "outputs": [
    {
     "data": {
      "text/plain": [
       "Index(['encounter id', 'patient nbr', 'age', 'time in hospital',\n",
       "       'num lab procedures', 'num procedures', 'num medications',\n",
       "       'number outpatient', 'number emergency', 'number inpatient',\n",
       "       ...\n",
       "       'insulin Steady', 'insulin Up', 'glyburidemetformin Down',\n",
       "       'glyburidemetformin No', 'glyburidemetformin Steady',\n",
       "       'glyburidemetformin Up', 'change Ch', 'change No', 'diabetesMed No',\n",
       "       'diabetesMed Yes'],\n",
       "      dtype='object', length=1664)"
      ]
     },
     "execution_count": 24,
     "metadata": {},
     "output_type": "execute_result"
    }
   ],
   "source": [
    "sampled_df.columns = [re.sub(r'[^\\w\\s]', '', col) for col in sampled_df.columns]\n",
    "sampled_df.columns = [re.sub(r'[_]', ' ', col) for col in sampled_df.columns]\n",
    "sampled_df.columns"
   ]
  },
  {
   "cell_type": "code",
   "execution_count": 27,
   "id": "2a3936cd",
   "metadata": {},
   "outputs": [
    {
     "name": "stdout",
     "output_type": "stream",
     "text": [
      "Train: 16318\n",
      "Test: 4080\n"
     ]
    }
   ],
   "source": [
    "X = sampled_df.drop(['readmitted'],axis=1)\n",
    "y = sampled_df['readmitted']\n",
    "# Split data into train and test sets\n",
    "X_train, X_test, y_train, y_test = train_test_split(X, y, test_size=0.2, random_state=42, stratify=y)\n",
    "print('Train:', X_train.shape[0])\n",
    "print('Test:', X_test.shape[0])"
   ]
  },
  {
   "cell_type": "code",
   "execution_count": 28,
   "id": "3a305480",
   "metadata": {},
   "outputs": [
    {
     "name": "stdout",
     "output_type": "stream",
     "text": [
      "Best Hyperparameters: {'learning_rate': 0.01, 'max_depth': 5, 'n_estimators': 100, 'num_leaves': 31}\n"
     ]
    }
   ],
   "source": [
    "# Define LightGBM parameters\n",
    "param_grid = {\n",
    "    'n_estimators': [100, 200, 300],\n",
    "    'learning_rate': [0.01, 0.1, 0.2],\n",
    "    'max_depth': [3, 4, 5],\n",
    "    'num_leaves': [31, 50, 100],\n",
    "}\n",
    "\n",
    "# Create and fit a LightGBM model\n",
    "lgb_classifier = lgb.LGBMClassifier()\n",
    "lgb_classifier.fit(X_train, y_train)\n",
    "\n",
    "grid_search = GridSearchCV(lgb_classifier, param_grid, cv=5, scoring='f1')\n",
    "grid_search.fit(X_train, y_train)\n",
    "\n",
    "# Get the best hyperparameters\n",
    "best_params = grid_search.best_params_\n",
    "best_estimator = grid_search.best_estimator_\n",
    "\n",
    "print(\"Best Hyperparameters:\", best_params)"
   ]
  },
  {
   "cell_type": "code",
   "execution_count": 29,
   "id": "cbd2500c",
   "metadata": {},
   "outputs": [
    {
     "name": "stdout",
     "output_type": "stream",
     "text": [
      "Model tuned:\n",
      "Accuracy: 0.6061274509803921\n",
      "ROC AUC: 0.6509770737255391\n",
      "Precision: 0.6145366861867034\n",
      "Recall: 0.7852112676056338\n",
      "F1 Score: 0.6894685990338164\n",
      "Confusion Matrix:\n",
      " [[ 689 1119]\n",
      " [ 488 1784]]\n"
     ]
    }
   ],
   "source": [
    "model_selected_attributes = lgb.LGBMClassifier(**best_params)\n",
    "model_selected_attributes.fit(X_train, y_train)\n",
    "\n",
    "# Predict on the test set\n",
    "y_pred = best_estimator.predict(X_test)\n",
    "\n",
    "# Evaluate the model with selected attributes\n",
    "accuracy_selected_attributes = accuracy_score(y_test, y_pred)\n",
    "roc_auc_selected_attributes = roc_auc_score(y_test, model_selected_attributes.predict_proba(X_test)[:, 1])\n",
    "precision_selected_attributes = precision_score(y_test, y_pred)\n",
    "recall_selected_attributes = recall_score(y_test, y_pred)\n",
    "f1_selected_attributes = f1_score(y_test, y_pred)\n",
    "\n",
    "# Compute confusion matrix for the model with selected attributes\n",
    "confusion_matrix_selected_attributes = confusion_matrix(y_test, y_pred)\n",
    "\n",
    "print(\"Model tuned:\")\n",
    "print(\"Accuracy:\", accuracy_selected_attributes)\n",
    "print(\"ROC AUC:\", roc_auc_selected_attributes)\n",
    "print(\"Precision:\", precision_selected_attributes)\n",
    "print(\"Recall:\", recall_selected_attributes)\n",
    "print(\"F1 Score:\", f1_selected_attributes)\n",
    "cm = confusion_matrix_selected_attributes\n",
    "print(\"Confusion Matrix:\\n\", cm)\n"
   ]
  },
  {
   "cell_type": "code",
   "execution_count": 30,
   "id": "b4e72dde",
   "metadata": {},
   "outputs": [],
   "source": [
    "#LGBM with real features"
   ]
  },
  {
   "cell_type": "code",
   "execution_count": 33,
   "id": "67440591",
   "metadata": {},
   "outputs": [
    {
     "name": "stdout",
     "output_type": "stream",
     "text": [
      "Train: 16318\n",
      "Test: 4080\n"
     ]
    }
   ],
   "source": [
    "X = sampled_df.drop(['readmitted'],axis=1)\n",
    "y = sampled_df['readmitted']\n",
    "# Split data into train and test sets\n",
    "X_train, X_test, y_train, y_test = train_test_split(X, y, test_size=0.2, random_state=42, stratify=y)\n",
    "print('Train:', X_train.shape[0])\n",
    "print('Test:', X_test.shape[0])"
   ]
  },
  {
   "cell_type": "code",
   "execution_count": 34,
   "id": "14f35410",
   "metadata": {},
   "outputs": [
    {
     "name": "stdout",
     "output_type": "stream",
     "text": [
      "\n",
      "Model tuned:\n",
      "Accuracy: 0.6061274509803921\n",
      "ROC AUC: 0.6509770737255391\n",
      "Precision: 0.6145366861867034\n",
      "Recall: 0.7852112676056338\n",
      "F1 Score: 0.6894685990338164\n",
      "Confusion Matrix:\n",
      " [[ 689 1119]\n",
      " [ 488 1784]]\n"
     ]
    }
   ],
   "source": [
    "model_selected_attributes = lgb.LGBMClassifier(**best_params)\n",
    "model_selected_attributes.fit(X_train, y_train)\n",
    "\n",
    "# Predict on the test set\n",
    "y_pred = best_estimator.predict(X_test)\n",
    "\n",
    "# Evaluate the model with selected attributes\n",
    "accuracy_selected_attributes = accuracy_score(y_test, y_pred)\n",
    "roc_auc_selected_attributes = roc_auc_score(y_test, model_selected_attributes.predict_proba(X_test)[:, 1])\n",
    "precision_selected_attributes = precision_score(y_test, y_pred)\n",
    "recall_selected_attributes = recall_score(y_test, y_pred)\n",
    "f1_selected_attributes = f1_score(y_test, y_pred)\n",
    "\n",
    "# Compute confusion matrix for the model with selected attributes\n",
    "confusion_matrix_selected_attributes = confusion_matrix(y_test, y_pred)\n",
    "\n",
    "print(\"\\nModel tuned:\")\n",
    "print(\"Accuracy:\", accuracy_selected_attributes)\n",
    "print(\"ROC AUC:\", roc_auc_selected_attributes)\n",
    "print(\"Precision:\", precision_selected_attributes)\n",
    "print(\"Recall:\", recall_selected_attributes)\n",
    "print(\"F1 Score:\", f1_selected_attributes)\n",
    "cm = confusion_matrix_selected_attributes\n",
    "print(\"Confusion Matrix:\\n\", cm)\n"
   ]
  },
  {
   "cell_type": "code",
   "execution_count": null,
   "id": "22bd4172",
   "metadata": {},
   "outputs": [],
   "source": [
    "#LGBM with scaled features"
   ]
  },
  {
   "cell_type": "code",
   "execution_count": 38,
   "id": "269753b1",
   "metadata": {},
   "outputs": [
    {
     "name": "stdout",
     "output_type": "stream",
     "text": [
      "Train: 16318\n",
      "Test: 4080\n"
     ]
    }
   ],
   "source": [
    "X = sampled_df.drop('readmitted',axis=1)\n",
    "y = sampled_df['readmitted']\n",
    "\n",
    "# Define and fit a MinMaxScaler\n",
    "scaler = MinMaxScaler()\n",
    "model = scaler.fit(X)\n",
    "scaled_X = model.transform(X)\n",
    "\n",
    "# Split data into train and test sets\n",
    "X_train, X_test, y_train, y_test = train_test_split(scaled_X, y, test_size=0.2, random_state=42, stratify=y)\n",
    "print('Train:', X_train.shape[0])\n",
    "print('Test:', X_test.shape[0])\n"
   ]
  },
  {
   "cell_type": "code",
   "execution_count": 39,
   "id": "c87e4e01",
   "metadata": {
    "scrolled": true
   },
   "outputs": [
    {
     "name": "stdout",
     "output_type": "stream",
     "text": [
      "Best Hyperparameters: {'learning_rate': 0.01, 'max_depth': 5, 'n_estimators': 100, 'num_leaves': 31}\n"
     ]
    }
   ],
   "source": [
    "# Define LightGBM parameters\n",
    "param_grid = {\n",
    "    'n_estimators': [100, 200, 300],\n",
    "    'learning_rate': [0.01, 0.1, 0.2],\n",
    "    'max_depth': [3, 4, 5],\n",
    "    'num_leaves': [31, 50, 100],\n",
    "}\n",
    "\n",
    "# Create and fit a LightGBM model\n",
    "lgb_classifier = lgb.LGBMClassifier()\n",
    "lgb_classifier.fit(X_train, y_train)\n",
    "\n",
    "grid_search = GridSearchCV(lgb_classifier, param_grid, cv=5, scoring='f1')\n",
    "grid_search.fit(X_train, y_train)\n",
    "\n",
    "# Get the best hyperparameters\n",
    "best_params = grid_search.best_params_\n",
    "best_estimator = grid_search.best_estimator_\n",
    "\n",
    "print(\"Best Hyperparameters:\", best_params)"
   ]
  },
  {
   "cell_type": "code",
   "execution_count": 40,
   "id": "179a17b9",
   "metadata": {},
   "outputs": [
    {
     "name": "stdout",
     "output_type": "stream",
     "text": [
      "\n",
      "Model tuned:\n",
      "Accuracy: 0.6061274509803921\n",
      "ROC AUC: 0.6509770737255391\n",
      "Precision: 0.6145366861867034\n",
      "Recall: 0.7852112676056338\n",
      "F1 Score: 0.6894685990338164\n",
      "Confusion Matrix:\n",
      " [[ 689 1119]\n",
      " [ 488 1784]]\n"
     ]
    }
   ],
   "source": [
    "model_selected_attributes = lgb.LGBMClassifier(**best_params)\n",
    "model_selected_attributes.fit(X_train, y_train)\n",
    "\n",
    "# Predict on the test set\n",
    "y_pred = best_estimator.predict(X_test)\n",
    "\n",
    "# Evaluate the model with selected attributes\n",
    "accuracy_selected_attributes = accuracy_score(y_test, y_pred)\n",
    "roc_auc_selected_attributes = roc_auc_score(y_test, model_selected_attributes.predict_proba(X_test)[:, 1])\n",
    "precision_selected_attributes = precision_score(y_test, y_pred)\n",
    "recall_selected_attributes = recall_score(y_test, y_pred)\n",
    "f1_selected_attributes = f1_score(y_test, y_pred)\n",
    "\n",
    "# Compute confusion matrix for the model with selected attributes\n",
    "confusion_matrix_selected_attributes = confusion_matrix(y_test, y_pred)\n",
    "\n",
    "print(\"\\nModel tuned:\")\n",
    "print(\"Accuracy:\", accuracy_selected_attributes)\n",
    "print(\"ROC AUC:\", roc_auc_selected_attributes)\n",
    "print(\"Precision:\", precision_selected_attributes)\n",
    "print(\"Recall:\", recall_selected_attributes)\n",
    "print(\"F1 Score:\", f1_selected_attributes)\n",
    "cm = confusion_matrix_selected_attributes\n",
    "print(\"Confusion Matrix:\\n\", cm)\n"
   ]
  },
  {
   "cell_type": "code",
   "execution_count": null,
   "id": "0f60eebe",
   "metadata": {},
   "outputs": [],
   "source": []
  },
  {
   "cell_type": "code",
   "execution_count": null,
   "id": "c019a4f7",
   "metadata": {},
   "outputs": [],
   "source": []
  }
 ],
 "metadata": {
  "kernelspec": {
   "display_name": "Python 3",
   "language": "python",
   "name": "python3"
  },
  "language_info": {
   "codemirror_mode": {
    "name": "ipython",
    "version": 3
   },
   "file_extension": ".py",
   "mimetype": "text/x-python",
   "name": "python",
   "nbconvert_exporter": "python",
   "pygments_lexer": "ipython3",
   "version": "3.7.0"
  }
 },
 "nbformat": 4,
 "nbformat_minor": 5
}
