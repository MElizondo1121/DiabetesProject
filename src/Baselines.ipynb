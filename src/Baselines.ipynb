{
 "cells": [
  {
   "cell_type": "markdown",
   "id": "db4f6601",
   "metadata": {},
   "source": [
    "# Baseline Models\n",
    "\n",
    "1. Support Vector Classifier\n",
    "2. Random Forest Classifier\n",
    "\n",
    "Questions addressed:\n",
    "    - to scale or not scale?\n",
    "    - under/over-sampling techniques?\n",
    "\n",
    "Objective: To address challenges posed by unique entry values and complexities of the N3C, this study aggregates and organizes variables relevant to diabetic re-hospitalization. Relevant features and data are used for diabetes management, employing minMaxScaler normalization for uniform feature scaling. Class labeling imbalance is addressed by dividing the dataset into two classes and balancing the sample dataset using under-sampling and stratified sampling"
   ]
  },
  {
   "cell_type": "code",
   "execution_count": 3,
   "id": "cf048242",
   "metadata": {},
   "outputs": [],
   "source": [
    "#Loading libraries \n",
    "import pandas as pd\n",
    "import numpy as np\n",
    "import matplotlib.pyplot as plt\n",
    "import seaborn as sns\n",
    "from sklearn.svm import SVC\n",
    "from sklearn.ensemble import RandomForestClassifier\n",
    "from sklearn.feature_selection import RFE\n",
    "from sklearn.ensemble import RandomForestClassifier\n",
    "from sklearn.model_selection import train_test_split\n",
    "from sklearn import preprocessing\n",
    "from sklearn.metrics import precision_score, recall_score, f1_score, confusion_matrix\n",
    "from sklearn.metrics import accuracy_score, roc_auc_score, classification_report\n",
    "\n",
    "import warnings\n",
    "warnings.filterwarnings(\"ignore\")"
   ]
  },
  {
   "cell_type": "code",
   "execution_count": 4,
   "id": "7467c30e",
   "metadata": {
    "scrolled": true
   },
   "outputs": [
    {
     "data": {
      "text/plain": [
       "encounter_id                float64\n",
       "patient_nbr                 float64\n",
       "race                         object\n",
       "gender                       object\n",
       "age                         float64\n",
       "weight                       object\n",
       "admission_type_id            object\n",
       "discharge_disposition_id     object\n",
       "admission_source_id          object\n",
       "time_in_hospital            float64\n",
       "num_lab_procedures          float64\n",
       "num_procedures              float64\n",
       "num_medications             float64\n",
       "number_outpatient           float64\n",
       "number_emergency            float64\n",
       "number_inpatient            float64\n",
       "diag_1                       object\n",
       "diag_2                       object\n",
       "diag_3                       object\n",
       "number_diagnoses            float64\n",
       "max_glu_serum                object\n",
       "A1Cresult                    object\n",
       "metformin                    object\n",
       "repaglinide                  object\n",
       "nateglinide                  object\n",
       "chlorpropamide               object\n",
       "glimepiride                  object\n",
       "glipizide                    object\n",
       "glyburide                    object\n",
       "pioglitazone                 object\n",
       "rosiglitazone                object\n",
       "acarbose                     object\n",
       "miglitol                     object\n",
       "insulin                      object\n",
       "glyburide-metformin          object\n",
       "change                       object\n",
       "diabetesMed                  object\n",
       "readmitted                  float64\n",
       "dtype: object"
      ]
     },
     "execution_count": 4,
     "metadata": {},
     "output_type": "execute_result"
    }
   ],
   "source": [
    "#loading Dataset\n",
    "df = pd.read_csv(\"../data/processed_diabetes_data.csv\").drop('Unnamed: 0', axis=1)\n",
    "df.dtypes"
   ]
  },
  {
   "cell_type": "code",
   "execution_count": null,
   "id": "6d1d0db7",
   "metadata": {},
   "outputs": [],
   "source": []
  },
  {
   "cell_type": "code",
   "execution_count": 5,
   "id": "ca38e96f",
   "metadata": {},
   "outputs": [
    {
     "name": "stdout",
     "output_type": "stream",
     "text": [
      "Numerical Columns:\n",
      "['encounter_id', 'patient_nbr', 'age', 'time_in_hospital', 'num_lab_procedures', 'num_procedures', 'num_medications', 'number_outpatient', 'number_emergency', 'number_inpatient', 'number_diagnoses', 'readmitted']\n",
      "\n",
      "Object (Categorical) Columns:\n",
      "['race', 'gender', 'weight', 'admission_type_id', 'discharge_disposition_id', 'admission_source_id', 'diag_1', 'diag_2', 'diag_3', 'max_glu_serum', 'A1Cresult', 'metformin', 'repaglinide', 'nateglinide', 'chlorpropamide', 'glimepiride', 'glipizide', 'glyburide', 'pioglitazone', 'rosiglitazone', 'acarbose', 'miglitol', 'insulin', 'glyburide-metformin', 'change', 'diabetesMed']\n"
     ]
    },
    {
     "data": {
      "text/plain": [
       "encounter_id              101763\n",
       "patient_nbr                71515\n",
       "age                           10\n",
       "time_in_hospital              14\n",
       "num_lab_procedures           118\n",
       "                           ...  \n",
       "glyburide-metformin_Up         2\n",
       "change_Ch                      2\n",
       "change_No                      2\n",
       "diabetesMed_No                 2\n",
       "diabetesMed_Yes                2\n",
       "Length: 2249, dtype: int64"
      ]
     },
     "execution_count": 5,
     "metadata": {},
     "output_type": "execute_result"
    }
   ],
   "source": [
    "numerical_columns = df.select_dtypes(include=['float64']).astype(int).columns.tolist()\n",
    "object_columns = df.select_dtypes(include=['object']).columns.tolist()\n",
    "print(\"Numerical Columns:\")\n",
    "print(numerical_columns)\n",
    "\n",
    "print(\"\\nObject (Categorical) Columns:\")\n",
    "print(object_columns)\n",
    "object_columns = df.select_dtypes(include=['object']).columns.tolist()\n",
    "df = pd.get_dummies(df, columns=object_columns, dtype=int)\n",
    "\n",
    "df.nunique()"
   ]
  },
  {
   "cell_type": "code",
   "execution_count": 10,
   "id": "4b790e65",
   "metadata": {},
   "outputs": [],
   "source": [
    "identifiers = ['encounter_id', 'patient_nbr']\n",
    "label = ['readmitted']\n",
    "X= df.drop(columns = ['readmitted', 'encounter_id', 'patient_nbr'])\n",
    "y = df['readmitted']\n",
    "X_train, X_test, y_train, y_test = train_test_split(X, y, test_size=0.20, random_state=42)"
   ]
  },
  {
   "cell_type": "code",
   "execution_count": 11,
   "id": "5d81c703",
   "metadata": {},
   "outputs": [],
   "source": [
    "## Support Vector Classifier"
   ]
  },
  {
   "cell_type": "code",
   "execution_count": 12,
   "id": "16007b62",
   "metadata": {},
   "outputs": [
    {
     "name": "stdout",
     "output_type": "stream",
     "text": [
      "                precision    recall  f1-score   support\n",
      "\n",
      "Not Readmitted       0.89      1.00      0.94     18084\n",
      "    Readmitted       0.00      0.00      0.00      2269\n",
      "\n",
      "      accuracy                           0.89     20353\n",
      "     macro avg       0.44      0.50      0.47     20353\n",
      "  weighted avg       0.79      0.89      0.84     20353\n",
      "\n"
     ]
    },
    {
     "data": {
      "image/png": "[encoded data removed]",
      "text/plain": [
       "<Figure size 576x432 with 2 Axes>"
      ]
     },
     "metadata": {
      "needs_background": "light"
     },
     "output_type": "display_data"
    }
   ],
   "source": [
    "svc = SVC()\n",
    "svc.fit(X_train, y_train)\n",
    "\n",
    "svc_prediction = svc.predict(X_test)\n",
    "\n",
    "print(classification_report(y_test, svc_prediction, target_names=['Not Readmitted', 'Readmitted']))\n",
    "\n",
    "conf_matrix = confusion_matrix(y_test, svc_prediction)\n",
    "\n",
    "plt.figure(figsize=(8, 6))\n",
    "sns.heatmap(conf_matrix, annot=True, fmt='d', cmap='Blues',\n",
    "            xticklabels=['Not Readmitted', 'Readmitted'],\n",
    "            yticklabels=['Not Readmitted', 'Readmitted'])\n",
    "plt.xlabel('Predicted')\n",
    "plt.ylabel('True')\n",
    "plt.title('Confusion Matrix')\n",
    "plt.show()"
   ]
  },
  {
   "cell_type": "code",
   "execution_count": 13,
   "id": "9ac3fd7e",
   "metadata": {},
   "outputs": [],
   "source": [
    "scaled_X = preprocessing.MinMaxScaler().fit_transform(X)\n",
    "X_train, X_test, y_train, y_test = train_test_split(X, y, test_size=0.20, random_state=42)"
   ]
  },
  {
   "cell_type": "code",
   "execution_count": 14,
   "id": "2f1ba888",
   "metadata": {},
   "outputs": [
    {
     "name": "stdout",
     "output_type": "stream",
     "text": [
      "                precision    recall  f1-score   support\n",
      "\n",
      "Not Readmitted       0.89      1.00      0.94     18084\n",
      "    Readmitted       0.00      0.00      0.00      2269\n",
      "\n",
      "      accuracy                           0.89     20353\n",
      "     macro avg       0.44      0.50      0.47     20353\n",
      "  weighted avg       0.79      0.89      0.84     20353\n",
      "\n"
     ]
    },
    {
     "data": {
      "image/png": "[encoded data removed]",
      "text/plain": [
       "<Figure size 576x432 with 2 Axes>"
      ]
     },
     "metadata": {
      "needs_background": "light"
     },
     "output_type": "display_data"
    }
   ],
   "source": [
    "svc = SVC()\n",
    "svc.fit(X_train, y_train)\n",
    "\n",
    "svc_prediction = svc.predict(X_test)\n",
    "\n",
    "print(classification_report(y_test, svc_prediction, target_names=['Not Readmitted', 'Readmitted']))\n",
    "\n",
    "conf_matrix = confusion_matrix(y_test, svc_prediction)\n",
    "\n",
    "plt.figure(figsize=(8, 6))\n",
    "sns.heatmap(conf_matrix, annot=True, fmt='d', cmap='Blues',\n",
    "            xticklabels=['Not Readmitted', 'Readmitted'],\n",
    "            yticklabels=['Not Readmitted', 'Readmitted'])\n",
    "plt.xlabel('Predicted')\n",
    "plt.ylabel('True')\n",
    "plt.title('Confusion Matrix')\n",
    "plt.show()"
   ]
  },
  {
   "cell_type": "code",
   "execution_count": 6,
   "id": "05624a68",
   "metadata": {},
   "outputs": [],
   "source": [
    "## Random Forest Classifier"
   ]
  },
  {
   "cell_type": "code",
   "execution_count": 7,
   "id": "e4c2fd40",
   "metadata": {},
   "outputs": [],
   "source": [
    "X= df.drop(columns = ['readmitted', 'encounter_id', 'patient_nbr'])\n",
    "y = df['readmitted']\n",
    "X_train, X_test, y_train, y_test = train_test_split(X, y, test_size=0.20, random_state=42)"
   ]
  },
  {
   "cell_type": "code",
   "execution_count": 7,
   "id": "fdf27e49",
   "metadata": {},
   "outputs": [
    {
     "name": "stdout",
     "output_type": "stream",
     "text": [
      "                precision    recall  f1-score   support\n",
      "\n",
      "Not Readmitted       0.89      1.00      0.94     18084\n",
      "    Readmitted       0.00      0.00      0.00      2269\n",
      "\n",
      "      accuracy                           0.89     20353\n",
      "     macro avg       0.44      0.50      0.47     20353\n",
      "  weighted avg       0.79      0.89      0.84     20353\n",
      "\n"
     ]
    },
    {
     "data": {
      "image/png": "[encoded data removed]",
      "text/plain": [
       "<Figure size 576x432 with 2 Axes>"
      ]
     },
     "metadata": {
      "needs_background": "light"
     },
     "output_type": "display_data"
    }
   ],
   "source": [
    "rf = RandomForestClassifier(n_estimators = 50, max_depth=5, random_state=43)\n",
    "rf.fit(X_train, y_train)\n",
    "rf_prediction = rf.predict(X_test)\n",
    "print(classification_report(y_test, rf_prediction, target_names= ['Not Readmitted', 'Readmitted']))\n",
    "conf_matrix = confusion_matrix(y_test, rf_prediction)\n",
    "\n",
    "plt.figure(figsize=(8, 6))\n",
    "sns.heatmap(conf_matrix, annot=True, fmt='d', cmap='Blues',\n",
    "            xticklabels=['Not Readmitted', 'Readmitted'],\n",
    "            yticklabels=['Not Readmitted', 'Readmitted'])\n",
    "plt.xlabel('Predicted')\n",
    "plt.ylabel('True')\n",
    "plt.title('Confusion Matrix')\n",
    "plt.show()"
   ]
  },
  {
   "cell_type": "code",
   "execution_count": 8,
   "id": "788c3127",
   "metadata": {},
   "outputs": [],
   "source": [
    "scaled_X = preprocessing.MinMaxScaler().fit_transform(X)\n",
    "X_train, X_test, y_train, y_test = train_test_split(scaled_X, y, test_size=0.20, random_state=42)"
   ]
  },
  {
   "cell_type": "code",
   "execution_count": 9,
   "id": "3c13aecd",
   "metadata": {
    "scrolled": true
   },
   "outputs": [
    {
     "name": "stdout",
     "output_type": "stream",
     "text": [
      "                precision    recall  f1-score   support\n",
      "\n",
      "Not Readmitted       0.89      1.00      0.94     18084\n",
      "    Readmitted       0.00      0.00      0.00      2269\n",
      "\n",
      "      accuracy                           0.89     20353\n",
      "     macro avg       0.44      0.50      0.47     20353\n",
      "  weighted avg       0.79      0.89      0.84     20353\n",
      "\n"
     ]
    },
    {
     "data": {
      "image/png": "[encoded data removed]",
      "text/plain": [
       "<Figure size 576x432 with 2 Axes>"
      ]
     },
     "metadata": {
      "needs_background": "light"
     },
     "output_type": "display_data"
    }
   ],
   "source": [
    "rf = RandomForestClassifier(n_estimators = 50, max_depth=5, random_state=43)\n",
    "rf.fit(X_train, y_train)\n",
    "rf_prediction = rf.predict(X_test)\n",
    "print(classification_report(y_test, rf_prediction, target_names= ['Not Readmitted', 'Readmitted']))\n",
    "conf_matrix = confusion_matrix(y_test, rf_prediction)\n",
    "\n",
    "plt.figure(figsize=(8, 6))\n",
    "sns.heatmap(conf_matrix, annot=True, fmt='d', cmap='Blues',\n",
    "            xticklabels=['Not Readmitted', 'Readmitted'],\n",
    "            yticklabels=['Not Readmitted', 'Readmitted'])\n",
    "plt.xlabel('Predicted')\n",
    "plt.ylabel('True')\n",
    "plt.title('Confusion Matrix')\n",
    "plt.show()"
   ]
  },
  {
   "cell_type": "code",
   "execution_count": null,
   "id": "7d1899a6",
   "metadata": {},
   "outputs": [],
   "source": []
  }
 ],
 "metadata": {
  "kernelspec": {
   "display_name": "Python 3",
   "language": "python",
   "name": "python3"
  },
  "language_info": {
   "codemirror_mode": {
    "name": "ipython",
    "version": 3
   },
   "file_extension": ".py",
   "mimetype": "text/x-python",
   "name": "python",
   "nbconvert_exporter": "python",
   "pygments_lexer": "ipython3",
   "version": "3.7.0"
  }
 },
 "nbformat": 4,
 "nbformat_minor": 5
}
