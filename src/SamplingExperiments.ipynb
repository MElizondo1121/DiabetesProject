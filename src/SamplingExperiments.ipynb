{
 "cells": [
  {
   "cell_type": "markdown",
   "id": "b48c9855",
   "metadata": {},
   "source": [
    "### Measures\n",
    " - Accuracy\n",
    " - Precision\n",
    " - Recall\n",
    " - F1 Score\n",
    " - AUC-ROC"
   ]
  },
  {
   "cell_type": "code",
   "execution_count": 1,
   "id": "2da48fc1",
   "metadata": {},
   "outputs": [
    {
     "name": "stderr",
     "output_type": "stream",
     "text": [
      "In C:\\Users\\Mirna Elizondo\\anaconda3\\envs\\condaEnv\\lib\\site-packages\\matplotlib\\mpl-data\\stylelib\\_classic_test.mplstyle: \n",
      "The text.latex.unicode rcparam was deprecated in Matplotlib 3.0 and will be removed in 3.2.\n",
      "In C:\\Users\\Mirna Elizondo\\anaconda3\\envs\\condaEnv\\lib\\site-packages\\matplotlib\\mpl-data\\stylelib\\_classic_test.mplstyle: \n",
      "The savefig.frameon rcparam was deprecated in Matplotlib 3.1 and will be removed in 3.3.\n",
      "In C:\\Users\\Mirna Elizondo\\anaconda3\\envs\\condaEnv\\lib\\site-packages\\matplotlib\\mpl-data\\stylelib\\_classic_test.mplstyle: \n",
      "The pgf.debug rcparam was deprecated in Matplotlib 3.0 and will be removed in 3.2.\n",
      "In C:\\Users\\Mirna Elizondo\\anaconda3\\envs\\condaEnv\\lib\\site-packages\\matplotlib\\mpl-data\\stylelib\\_classic_test.mplstyle: \n",
      "The verbose.level rcparam was deprecated in Matplotlib 3.1 and will be removed in 3.3.\n",
      "In C:\\Users\\Mirna Elizondo\\anaconda3\\envs\\condaEnv\\lib\\site-packages\\matplotlib\\mpl-data\\stylelib\\_classic_test.mplstyle: \n",
      "The verbose.fileo rcparam was deprecated in Matplotlib 3.1 and will be removed in 3.3.\n"
     ]
    }
   ],
   "source": [
    "import pandas as pd\n",
    "import seaborn as sns\n",
    "import matplotlib.pyplot as plt\n",
    "import numpy as np\n",
    "\n",
    "from sklearn.metrics import classification_report,accuracy_score, precision_score, recall_score, f1_score, confusion_matrix \n",
    "from sklearn.model_selection import train_test_split\n",
    "from sklearn.ensemble import RandomForestClassifier\n",
    "from sklearn.ensemble import GradientBoostingClassifier\n",
    "from xgboost import XGBClassifier\n",
    "from catboost import CatBoostClassifier\n",
    "import lightgbm as lgb\n",
    "import re\n",
    "\n",
    "from imblearn.pipeline import make_pipeline\n",
    "from imblearn.over_sampling import SMOTE\n",
    "from imblearn.under_sampling import RandomUnderSampler\n",
    "import warnings\n",
    "warnings.filterwarnings(\"ignore\")"
   ]
  },
  {
   "cell_type": "code",
   "execution_count": 2,
   "id": "3688d7af",
   "metadata": {},
   "outputs": [],
   "source": [
    "df = pd.read_csv('../data/diabetes_data_encoded.csv').drop(columns=[\"Unnamed: 0\"], axis=1)"
   ]
  },
  {
   "cell_type": "code",
   "execution_count": 3,
   "id": "50d0f988",
   "metadata": {},
   "outputs": [
    {
     "data": {
      "text/plain": [
       "array([dtype('int64')], dtype=object)"
      ]
     },
     "execution_count": 3,
     "metadata": {},
     "output_type": "execute_result"
    }
   ],
   "source": [
    "df.columns = [re.sub(r'[^\\w\\s]', '', col) for col in df.columns]\n",
    "df.columns = [re.sub(r'[_]', ' ', col) for col in df.columns]\n",
    "df.dtypes.unique()"
   ]
  },
  {
   "cell_type": "code",
   "execution_count": 4,
   "id": "cb41d632",
   "metadata": {},
   "outputs": [
    {
     "name": "stdout",
     "output_type": "stream",
     "text": [
      "(97916, 1446)\n"
     ]
    }
   ],
   "source": [
    "print(df.shape)"
   ]
  },
  {
   "cell_type": "code",
   "execution_count": 5,
   "id": "5640dac4",
   "metadata": {
    "scrolled": true
   },
   "outputs": [
    {
     "name": "stdout",
     "output_type": "stream",
     "text": [
      "Occurrences of Readmitted:\n",
      "Value 0: 86950\n",
      "Value 1: 10966\n",
      "%: 0.12611845888441633\n"
     ]
    }
   ],
   "source": [
    "readmit = df['readmitted'].value_counts()\n",
    "\n",
    "# Print the counts\n",
    "print(\"Occurrences of Readmitted:\")\n",
    "print(\"Value 0:\", readmit[0])\n",
    "print(\"Value 1:\", readmit[1])\n",
    "print('%:',readmit[1]/readmit[0])"
   ]
  },
  {
   "cell_type": "code",
   "execution_count": 6,
   "id": "0110d2e7",
   "metadata": {},
   "outputs": [],
   "source": [
    "X = df.drop('readmitted', axis=1)\n",
    "y = df['readmitted'].values\n",
    "X_train, X_val, y_train, y_val = train_test_split(X, y, test_size=0.2, random_state=42)"
   ]
  },
  {
   "cell_type": "code",
   "execution_count": 7,
   "id": "ac99b02d",
   "metadata": {},
   "outputs": [],
   "source": [
    "smote = SMOTE(random_state=42)\n",
    "X_train_smote, y_train_smote = smote.fit_resample(X_train, y_train)\n",
    "\n",
    "under_sampler = RandomUnderSampler(random_state=42)\n",
    "X_train_under, y_train_under = under_sampler.fit_resample(X_train, y_train)"
   ]
  },
  {
   "cell_type": "code",
   "execution_count": 8,
   "id": "0872d698",
   "metadata": {},
   "outputs": [
    {
     "name": "stdout",
     "output_type": "stream",
     "text": [
      "              precision    recall  f1-score   support\n",
      "\n",
      "           0       0.89      0.99      0.94     17405\n",
      "           1       0.27      0.03      0.06      2179\n",
      "\n",
      "    accuracy                           0.88     19584\n",
      "   macro avg       0.58      0.51      0.50     19584\n",
      "weighted avg       0.82      0.88      0.84     19584\n",
      "\n",
      "[[17214   191]\n",
      " [ 2109    70]]\n"
     ]
    }
   ],
   "source": [
    "rfc= RandomForestClassifier(random_state=42)\n",
    "rfc.fit(X_train_smote, y_train_smote)\n",
    "rfc_predictions = rfc.predict(X_val) \n",
    "print(classification_report(y_val, rfc_predictions))\n",
    "print(confusion_matrix(y_val, rfc_predictions))"
   ]
  },
  {
   "cell_type": "code",
   "execution_count": 9,
   "id": "49d97d50",
   "metadata": {},
   "outputs": [
    {
     "name": "stdout",
     "output_type": "stream",
     "text": [
      "  Sampling Technique  Precision    Recall  F1 Score  Accuracy  \\\n",
      "0          Smote-RFC   0.821576  0.882557  0.839465  0.882557   \n",
      "\n",
      "             Confusion Matrix  \n",
      "0  [[17214, 191], [2109, 70]]  \n"
     ]
    }
   ],
   "source": [
    "report = classification_report(y_val, rfc_predictions, output_dict=True)\n",
    "conf_matrix = confusion_matrix(y_val, rfc_predictions)\n",
    "\n",
    "# Extract metrics from classification report\n",
    "precision = report['weighted avg']['precision']\n",
    "recall = report['weighted avg']['recall']\n",
    "f1_score = report['weighted avg']['f1-score']\n",
    "accuracy = report['accuracy']\n",
    "\n",
    "# Create a DataFrame to store the metrics\n",
    "data = {\n",
    "    'Sampling Technique' : 'Smote-RFC',\n",
    "    'Precision': precision,\n",
    "    'Recall': recall,\n",
    "    'F1 Score': f1_score,\n",
    "    'Accuracy': accuracy,\n",
    "    'Confusion Matrix': [conf_matrix]\n",
    "}\n",
    "\n",
    "metrics_df = pd.DataFrame(data)\n",
    "print(metrics_df)"
   ]
  },
  {
   "cell_type": "code",
   "execution_count": 10,
   "id": "5df270e7",
   "metadata": {},
   "outputs": [
    {
     "name": "stdout",
     "output_type": "stream",
     "text": [
      "              precision    recall  f1-score   support\n",
      "\n",
      "           0       0.92      0.62      0.74     17405\n",
      "           1       0.16      0.59      0.25      2179\n",
      "\n",
      "    accuracy                           0.61     19584\n",
      "   macro avg       0.54      0.60      0.50     19584\n",
      "weighted avg       0.84      0.61      0.69     19584\n",
      "\n",
      "[[10740  6665]\n",
      " [  894  1285]]\n"
     ]
    }
   ],
   "source": [
    "rfc= RandomForestClassifier(random_state=42)\n",
    "rfc.fit(X_train_under, y_train_under)\n",
    "rfc_predictions = rfc.predict(X_val) \n",
    "print(classification_report(y_val, rfc_predictions))\n",
    "print(confusion_matrix(y_val, rfc_predictions))"
   ]
  },
  {
   "cell_type": "code",
   "execution_count": 11,
   "id": "a71fb2a9",
   "metadata": {},
   "outputs": [
    {
     "name": "stdout",
     "output_type": "stream",
     "text": [
      "  Sampling Technique  Precision    Recall  F1 Score  Accuracy  \\\n",
      "0          Smote-RFC   0.821576  0.882557  0.839465  0.882557   \n",
      "1   Undersampled-RFC   0.838426  0.614022  0.685624  0.614022   \n",
      "\n",
      "               Confusion Matrix  \n",
      "0    [[17214, 191], [2109, 70]]  \n",
      "1  [[10740, 6665], [894, 1285]]  \n"
     ]
    }
   ],
   "source": [
    "report = classification_report(y_val, rfc_predictions, output_dict=True)\n",
    "conf_matrix = confusion_matrix(y_val, rfc_predictions)\n",
    "\n",
    "# Extract metrics from classification report\n",
    "precision = report['weighted avg']['precision']\n",
    "recall = report['weighted avg']['recall']\n",
    "f1_score = report['weighted avg']['f1-score']\n",
    "accuracy = report['accuracy']\n",
    "\n",
    "# Create a DataFrame to store the metrics\n",
    "data = {\n",
    "    'Sampling Technique' : 'Undersampled-RFC',\n",
    "    'Precision': precision,\n",
    "    'Recall': recall,\n",
    "    'F1 Score': f1_score,\n",
    "    'Accuracy': accuracy,\n",
    "    'Confusion Matrix': [conf_matrix]\n",
    "}\n",
    "\n",
    "df = pd.DataFrame(data)\n",
    "metrics_df = metrics_df.append(df, ignore_index=True)\n",
    "print(metrics_df)"
   ]
  },
  {
   "cell_type": "code",
   "execution_count": 12,
   "id": "089aac55",
   "metadata": {},
   "outputs": [],
   "source": [
    "X_train, X_val, y_train, y_val = train_test_split(X, y, test_size=0.2, random_state=42)\n",
    "X_train_smote, y_train_smote = smote.fit_resample(X_train, y_train)\n",
    "X_train_under, y_train_under = under_sampler.fit_resample(X_train, y_train)"
   ]
  },
  {
   "cell_type": "code",
   "execution_count": 13,
   "id": "32d9b0bf",
   "metadata": {},
   "outputs": [
    {
     "name": "stdout",
     "output_type": "stream",
     "text": [
      "              precision    recall  f1-score   support\n",
      "\n",
      "           0       0.89      0.94      0.92     17405\n",
      "           1       0.17      0.09      0.12      2179\n",
      "\n",
      "    accuracy                           0.85     19584\n",
      "   macro avg       0.53      0.52      0.52     19584\n",
      "weighted avg       0.81      0.85      0.83     19584\n",
      "\n",
      "[[16439   966]\n",
      " [ 1976   203]]\n"
     ]
    }
   ],
   "source": [
    "gbt = GradientBoostingClassifier(learning_rate=0.1, n_estimators=100,max_depth=3, min_samples_split=2, min_samples_leaf=1, subsample=1,max_features='sqrt', random_state=10)\n",
    "gbt.fit(X_train_smote,y_train_smote)\n",
    "gbt_predictions = gbt.predict(X_val) \n",
    "print(classification_report(y_val, gbt_predictions))\n",
    "print(confusion_matrix(y_val, gbt_predictions))"
   ]
  },
  {
   "cell_type": "code",
   "execution_count": 14,
   "id": "df249c32",
   "metadata": {},
   "outputs": [
    {
     "name": "stdout",
     "output_type": "stream",
     "text": [
      "  Sampling Technique  Precision    Recall  F1 Score  Accuracy  \\\n",
      "0          Smote-RFC   0.821576  0.882557  0.839465  0.882557   \n",
      "1   Undersampled-RFC   0.838426  0.614022  0.685624  0.614022   \n",
      "2          Smote-GBT   0.812692  0.849775  0.829234  0.849775   \n",
      "\n",
      "               Confusion Matrix  \n",
      "0    [[17214, 191], [2109, 70]]  \n",
      "1  [[10740, 6665], [894, 1285]]  \n",
      "2   [[16439, 966], [1976, 203]]  \n"
     ]
    }
   ],
   "source": [
    "report = classification_report(y_val, gbt_predictions, output_dict=True)\n",
    "conf_matrix = confusion_matrix(y_val, gbt_predictions)\n",
    "\n",
    "# Extract metrics from classification report\n",
    "precision = report['weighted avg']['precision']\n",
    "recall = report['weighted avg']['recall']\n",
    "f1_score = report['weighted avg']['f1-score']\n",
    "accuracy = report['accuracy']\n",
    "\n",
    "# Create a DataFrame to store the metrics\n",
    "data = {\n",
    "    'Sampling Technique' : 'Smote-GBT',\n",
    "    'Precision': precision,\n",
    "    'Recall': recall,\n",
    "    'F1 Score': f1_score,\n",
    "    'Accuracy': accuracy,\n",
    "    'Confusion Matrix': [conf_matrix]\n",
    "}\n",
    "\n",
    "df = pd.DataFrame(data)\n",
    "metrics_df = metrics_df.append(df, ignore_index=True)\n",
    "print(metrics_df)"
   ]
  },
  {
   "cell_type": "code",
   "execution_count": 15,
   "id": "2d8f37af",
   "metadata": {},
   "outputs": [
    {
     "name": "stdout",
     "output_type": "stream",
     "text": [
      "              precision    recall  f1-score   support\n",
      "\n",
      "           0       0.92      0.65      0.76     17405\n",
      "           1       0.17      0.58      0.26      2179\n",
      "\n",
      "    accuracy                           0.64     19584\n",
      "   macro avg       0.55      0.61      0.51     19584\n",
      "weighted avg       0.84      0.64      0.70     19584\n",
      "\n",
      "[[11248  6157]\n",
      " [  926  1253]]\n"
     ]
    }
   ],
   "source": [
    "gbt = GradientBoostingClassifier(learning_rate=0.1, n_estimators=100,max_depth=3, min_samples_split=2, min_samples_leaf=1, subsample=1,max_features='sqrt', random_state=10)\n",
    "gbt.fit(X_train_under,y_train_under)\n",
    "gbt_predictions = gbt.predict(X_val) \n",
    "print(classification_report(y_val, gbt_predictions))\n",
    "print(confusion_matrix(y_val, gbt_predictions))"
   ]
  },
  {
   "cell_type": "code",
   "execution_count": 16,
   "id": "89f0cb2f",
   "metadata": {},
   "outputs": [
    {
     "name": "stdout",
     "output_type": "stream",
     "text": [
      "  Sampling Technique  Precision    Recall  F1 Score  Accuracy  \\\n",
      "0          Smote-RFC   0.821576  0.882557  0.839465  0.882557   \n",
      "1   Undersampled-RFC   0.838426  0.614022  0.685624  0.614022   \n",
      "2          Smote-GBT   0.812692  0.849775  0.829234  0.849775   \n",
      "3   Undersampled-GBT   0.839949  0.638327  0.704997  0.638327   \n",
      "\n",
      "               Confusion Matrix  \n",
      "0    [[17214, 191], [2109, 70]]  \n",
      "1  [[10740, 6665], [894, 1285]]  \n",
      "2   [[16439, 966], [1976, 203]]  \n",
      "3  [[11248, 6157], [926, 1253]]  \n"
     ]
    }
   ],
   "source": [
    "report = classification_report(y_val, gbt_predictions, output_dict=True)\n",
    "conf_matrix = confusion_matrix(y_val, gbt_predictions)\n",
    "\n",
    "# Extract metrics from classification report\n",
    "precision = report['weighted avg']['precision']\n",
    "recall = report['weighted avg']['recall']\n",
    "f1_score = report['weighted avg']['f1-score']\n",
    "accuracy = report['accuracy']\n",
    "\n",
    "# Create a DataFrame to store the metrics\n",
    "data = {\n",
    "    'Sampling Technique' : 'Undersampled-GBT',\n",
    "    'Precision': precision,\n",
    "    'Recall': recall,\n",
    "    'F1 Score': f1_score,\n",
    "    'Accuracy': accuracy,\n",
    "    'Confusion Matrix': [conf_matrix]\n",
    "}\n",
    "\n",
    "df = pd.DataFrame(data)\n",
    "metrics_df = metrics_df.append(df, ignore_index=True)\n",
    "print(metrics_df)"
   ]
  },
  {
   "cell_type": "code",
   "execution_count": 17,
   "id": "03f55026",
   "metadata": {},
   "outputs": [],
   "source": [
    "X_train, X_val, y_train, y_val = train_test_split(X, y, test_size=0.2, random_state=42)\n",
    "X_train_smote, y_train_smote = smote.fit_resample(X_train, y_train)\n",
    "X_train_under, y_train_under = under_sampler.fit_resample(X_train, y_train)"
   ]
  },
  {
   "cell_type": "code",
   "execution_count": 18,
   "id": "2029761f",
   "metadata": {
    "scrolled": true
   },
   "outputs": [
    {
     "name": "stdout",
     "output_type": "stream",
     "text": [
      "[1]\tvalid_0's l1: 0.496384\n",
      "Training until validation scores don't improve for 10 rounds\n",
      "[2]\tvalid_0's l1: 0.493221\n",
      "[3]\tvalid_0's l1: 0.49027\n",
      "[4]\tvalid_0's l1: 0.48767\n",
      "[5]\tvalid_0's l1: 0.485349\n",
      "[6]\tvalid_0's l1: 0.483221\n",
      "[7]\tvalid_0's l1: 0.481325\n",
      "[8]\tvalid_0's l1: 0.479491\n",
      "[9]\tvalid_0's l1: 0.477913\n",
      "[10]\tvalid_0's l1: 0.47651\n",
      "[11]\tvalid_0's l1: 0.475261\n",
      "[12]\tvalid_0's l1: 0.473989\n",
      "[13]\tvalid_0's l1: 0.472834\n",
      "[14]\tvalid_0's l1: 0.471868\n",
      "[15]\tvalid_0's l1: 0.470892\n",
      "[16]\tvalid_0's l1: 0.470125\n",
      "[17]\tvalid_0's l1: 0.4693\n",
      "[18]\tvalid_0's l1: 0.468634\n",
      "[19]\tvalid_0's l1: 0.467998\n",
      "[20]\tvalid_0's l1: 0.467418\n",
      "[21]\tvalid_0's l1: 0.466871\n",
      "[22]\tvalid_0's l1: 0.466374\n",
      "[23]\tvalid_0's l1: 0.465951\n",
      "[24]\tvalid_0's l1: 0.465395\n",
      "[25]\tvalid_0's l1: 0.465071\n",
      "[26]\tvalid_0's l1: 0.46483\n",
      "[27]\tvalid_0's l1: 0.464475\n",
      "[28]\tvalid_0's l1: 0.4641\n",
      "[29]\tvalid_0's l1: 0.463895\n",
      "[30]\tvalid_0's l1: 0.463543\n",
      "[31]\tvalid_0's l1: 0.463237\n",
      "[32]\tvalid_0's l1: 0.463069\n",
      "[33]\tvalid_0's l1: 0.462708\n",
      "[34]\tvalid_0's l1: 0.462595\n",
      "[35]\tvalid_0's l1: 0.462441\n",
      "[36]\tvalid_0's l1: 0.462319\n",
      "[37]\tvalid_0's l1: 0.462015\n",
      "[38]\tvalid_0's l1: 0.461851\n",
      "[39]\tvalid_0's l1: 0.461681\n",
      "[40]\tvalid_0's l1: 0.461564\n",
      "[41]\tvalid_0's l1: 0.461436\n",
      "[42]\tvalid_0's l1: 0.461268\n",
      "[43]\tvalid_0's l1: 0.461023\n",
      "[44]\tvalid_0's l1: 0.460909\n",
      "[45]\tvalid_0's l1: 0.460732\n",
      "[46]\tvalid_0's l1: 0.46065\n",
      "[47]\tvalid_0's l1: 0.460402\n",
      "[48]\tvalid_0's l1: 0.460313\n",
      "[49]\tvalid_0's l1: 0.460246\n",
      "[50]\tvalid_0's l1: 0.460058\n",
      "[51]\tvalid_0's l1: 0.459999\n",
      "[52]\tvalid_0's l1: 0.459916\n",
      "[53]\tvalid_0's l1: 0.459872\n",
      "[54]\tvalid_0's l1: 0.459775\n",
      "[55]\tvalid_0's l1: 0.459744\n",
      "[56]\tvalid_0's l1: 0.459642\n",
      "[57]\tvalid_0's l1: 0.459581\n",
      "[58]\tvalid_0's l1: 0.459499\n",
      "[59]\tvalid_0's l1: 0.459426\n",
      "[60]\tvalid_0's l1: 0.459383\n",
      "[61]\tvalid_0's l1: 0.45928\n",
      "[62]\tvalid_0's l1: 0.459203\n",
      "[63]\tvalid_0's l1: 0.459137\n",
      "[64]\tvalid_0's l1: 0.459092\n",
      "[65]\tvalid_0's l1: 0.459045\n",
      "[66]\tvalid_0's l1: 0.458997\n",
      "[67]\tvalid_0's l1: 0.458921\n",
      "[68]\tvalid_0's l1: 0.458829\n",
      "[69]\tvalid_0's l1: 0.458813\n",
      "[70]\tvalid_0's l1: 0.458795\n",
      "[71]\tvalid_0's l1: 0.458764\n",
      "[72]\tvalid_0's l1: 0.458717\n",
      "[73]\tvalid_0's l1: 0.458661\n",
      "[74]\tvalid_0's l1: 0.458569\n",
      "[75]\tvalid_0's l1: 0.458493\n",
      "[76]\tvalid_0's l1: 0.458447\n",
      "[77]\tvalid_0's l1: 0.458406\n",
      "[78]\tvalid_0's l1: 0.4583\n",
      "[79]\tvalid_0's l1: 0.458264\n",
      "[80]\tvalid_0's l1: 0.458213\n",
      "[81]\tvalid_0's l1: 0.458201\n",
      "[82]\tvalid_0's l1: 0.458135\n",
      "[83]\tvalid_0's l1: 0.457975\n",
      "[84]\tvalid_0's l1: 0.458011\n",
      "[85]\tvalid_0's l1: 0.457977\n",
      "[86]\tvalid_0's l1: 0.457946\n",
      "[87]\tvalid_0's l1: 0.457926\n",
      "[88]\tvalid_0's l1: 0.45794\n",
      "[89]\tvalid_0's l1: 0.457917\n",
      "[90]\tvalid_0's l1: 0.457929\n",
      "[91]\tvalid_0's l1: 0.457888\n",
      "[92]\tvalid_0's l1: 0.457816\n",
      "[93]\tvalid_0's l1: 0.457776\n",
      "[94]\tvalid_0's l1: 0.457722\n",
      "[95]\tvalid_0's l1: 0.45769\n",
      "[96]\tvalid_0's l1: 0.457703\n",
      "[97]\tvalid_0's l1: 0.457705\n",
      "[98]\tvalid_0's l1: 0.45764\n",
      "[99]\tvalid_0's l1: 0.457629\n",
      "[100]\tvalid_0's l1: 0.457494\n",
      "[101]\tvalid_0's l1: 0.45742\n",
      "[102]\tvalid_0's l1: 0.457399\n",
      "[103]\tvalid_0's l1: 0.45738\n",
      "[104]\tvalid_0's l1: 0.457365\n",
      "[105]\tvalid_0's l1: 0.457344\n",
      "[106]\tvalid_0's l1: 0.457327\n",
      "[107]\tvalid_0's l1: 0.45733\n",
      "[108]\tvalid_0's l1: 0.45729\n",
      "[109]\tvalid_0's l1: 0.457201\n",
      "[110]\tvalid_0's l1: 0.457144\n",
      "[111]\tvalid_0's l1: 0.457063\n",
      "[112]\tvalid_0's l1: 0.457078\n",
      "[113]\tvalid_0's l1: 0.457021\n",
      "[114]\tvalid_0's l1: 0.456977\n",
      "[115]\tvalid_0's l1: 0.456912\n",
      "[116]\tvalid_0's l1: 0.456953\n",
      "[117]\tvalid_0's l1: 0.456964\n",
      "[118]\tvalid_0's l1: 0.456935\n",
      "[119]\tvalid_0's l1: 0.456857\n",
      "[120]\tvalid_0's l1: 0.456806\n",
      "[121]\tvalid_0's l1: 0.4569\n",
      "[122]\tvalid_0's l1: 0.456894\n",
      "[123]\tvalid_0's l1: 0.456906\n",
      "[124]\tvalid_0's l1: 0.456849\n",
      "[125]\tvalid_0's l1: 0.456874\n",
      "[126]\tvalid_0's l1: 0.456882\n",
      "[127]\tvalid_0's l1: 0.456817\n",
      "[128]\tvalid_0's l1: 0.456743\n",
      "[129]\tvalid_0's l1: 0.456751\n",
      "[130]\tvalid_0's l1: 0.456763\n",
      "[131]\tvalid_0's l1: 0.456761\n",
      "[132]\tvalid_0's l1: 0.456742\n",
      "[133]\tvalid_0's l1: 0.456689\n",
      "[134]\tvalid_0's l1: 0.456669\n",
      "[135]\tvalid_0's l1: 0.456647\n",
      "[136]\tvalid_0's l1: 0.456663\n",
      "[137]\tvalid_0's l1: 0.456643\n",
      "[138]\tvalid_0's l1: 0.456576\n",
      "[139]\tvalid_0's l1: 0.456577\n",
      "[140]\tvalid_0's l1: 0.456621\n",
      "[141]\tvalid_0's l1: 0.456523\n",
      "[142]\tvalid_0's l1: 0.456438\n",
      "[143]\tvalid_0's l1: 0.456442\n",
      "[144]\tvalid_0's l1: 0.456499\n",
      "[145]\tvalid_0's l1: 0.456512\n",
      "[146]\tvalid_0's l1: 0.456348\n",
      "[147]\tvalid_0's l1: 0.456248\n",
      "[148]\tvalid_0's l1: 0.456268\n",
      "[149]\tvalid_0's l1: 0.456314\n",
      "[150]\tvalid_0's l1: 0.456292\n",
      "[151]\tvalid_0's l1: 0.456259\n",
      "[152]\tvalid_0's l1: 0.456275\n",
      "[153]\tvalid_0's l1: 0.45623\n",
      "[154]\tvalid_0's l1: 0.456181\n",
      "[155]\tvalid_0's l1: 0.456129\n",
      "[156]\tvalid_0's l1: 0.456122\n",
      "[157]\tvalid_0's l1: 0.456178\n",
      "[158]\tvalid_0's l1: 0.456177\n",
      "[159]\tvalid_0's l1: 0.456092\n",
      "[160]\tvalid_0's l1: 0.456119\n",
      "[161]\tvalid_0's l1: 0.45613\n",
      "[162]\tvalid_0's l1: 0.456137\n",
      "[163]\tvalid_0's l1: 0.456047\n",
      "[164]\tvalid_0's l1: 0.455962\n",
      "[165]\tvalid_0's l1: 0.455972\n",
      "[166]\tvalid_0's l1: 0.455991\n",
      "[167]\tvalid_0's l1: 0.455971\n",
      "[168]\tvalid_0's l1: 0.455931\n",
      "[169]\tvalid_0's l1: 0.455889\n",
      "[170]\tvalid_0's l1: 0.455825\n",
      "[171]\tvalid_0's l1: 0.455825\n",
      "[172]\tvalid_0's l1: 0.455793\n",
      "[173]\tvalid_0's l1: 0.455788\n",
      "[174]\tvalid_0's l1: 0.455817\n",
      "[175]\tvalid_0's l1: 0.455849\n",
      "[176]\tvalid_0's l1: 0.455765\n",
      "[177]\tvalid_0's l1: 0.455727\n",
      "[178]\tvalid_0's l1: 0.455687\n",
      "[179]\tvalid_0's l1: 0.455691\n",
      "[180]\tvalid_0's l1: 0.455676\n",
      "[181]\tvalid_0's l1: 0.455662\n",
      "[182]\tvalid_0's l1: 0.455663\n",
      "[183]\tvalid_0's l1: 0.455633\n",
      "[184]\tvalid_0's l1: 0.455639\n",
      "[185]\tvalid_0's l1: 0.455568\n",
      "[186]\tvalid_0's l1: 0.455495\n",
      "[187]\tvalid_0's l1: 0.455465\n",
      "[188]\tvalid_0's l1: 0.45545\n",
      "[189]\tvalid_0's l1: 0.455448\n",
      "[190]\tvalid_0's l1: 0.455377\n",
      "[191]\tvalid_0's l1: 0.455306\n",
      "[192]\tvalid_0's l1: 0.455335\n",
      "[193]\tvalid_0's l1: 0.455274\n",
      "[194]\tvalid_0's l1: 0.455235\n",
      "[195]\tvalid_0's l1: 0.455236\n",
      "[196]\tvalid_0's l1: 0.455264\n",
      "[197]\tvalid_0's l1: 0.455236\n",
      "[198]\tvalid_0's l1: 0.455183\n",
      "[199]\tvalid_0's l1: 0.455176\n",
      "[200]\tvalid_0's l1: 0.455203\n",
      "Did not meet early stopping. Best iteration is:\n",
      "[199]\tvalid_0's l1: 0.455176\n"
     ]
    }
   ],
   "source": [
    "neg_to_pos_ratio = (y_train == 0).sum() / (y_train == 1).sum()\n",
    "params = {\n",
    "    'objective': 'binary',\n",
    "    'metric': 'mae',\n",
    "    'min_child_weight': 60,  # Adjust this value and experiment\n",
    "    'random_state': 42,\n",
    "    'max_delta_step': 1,\n",
    "    'verbose': -1,\n",
    "    'max_depth': 10, \n",
    "}\n",
    "\n",
    "train_data = lgb.Dataset(X_train_under, label=y_train_under)\n",
    "val_data = lgb.Dataset(X_val, label=y_val)\n",
    "\n",
    "num_round = 200\n",
    "bst = lgb.train(params, train_data, num_round, valid_sets=[val_data], early_stopping_rounds=10)\n",
    "\n",
    "y_pred_proba = bst.predict(X_val)\n",
    "\n",
    "y_pred_class = [1 if pred > 0.5 else 0 for pred in y_pred_proba]"
   ]
  },
  {
   "cell_type": "code",
   "execution_count": 19,
   "id": "afbf53d4",
   "metadata": {
    "scrolled": true
   },
   "outputs": [
    {
     "name": "stdout",
     "output_type": "stream",
     "text": [
      "              precision    recall  f1-score   support\n",
      "\n",
      "           0       0.92      0.62      0.74     17405\n",
      "           1       0.16      0.60      0.26      2179\n",
      "\n",
      "    accuracy                           0.62     19584\n",
      "   macro avg       0.54      0.61      0.50     19584\n",
      "weighted avg       0.84      0.62      0.69     19584\n",
      "\n",
      "[[10746  6659]\n",
      " [  878  1301]]\n"
     ]
    }
   ],
   "source": [
    "print(classification_report(y_val, y_pred_class, zero_division=0))\n",
    "print(confusion_matrix(y_val, y_pred_class))"
   ]
  },
  {
   "cell_type": "code",
   "execution_count": 20,
   "id": "25435ea2",
   "metadata": {
    "scrolled": false
   },
   "outputs": [
    {
     "name": "stdout",
     "output_type": "stream",
     "text": [
      "  Sampling Technique  Precision    Recall  F1 Score  Accuracy  \\\n",
      "0          Smote-RFC   0.821576  0.882557  0.839465  0.882557   \n",
      "1   Undersampled-RFC   0.838426  0.614022  0.685624  0.614022   \n",
      "2          Smote-GBT   0.812692  0.849775  0.829234  0.849775   \n",
      "3   Undersampled-GBT   0.839949  0.638327  0.704997  0.638327   \n",
      "4  Undersampled-LGBM   0.839949  0.638327  0.704997  0.638327   \n",
      "\n",
      "               Confusion Matrix  \n",
      "0    [[17214, 191], [2109, 70]]  \n",
      "1  [[10740, 6665], [894, 1285]]  \n",
      "2   [[16439, 966], [1976, 203]]  \n",
      "3  [[11248, 6157], [926, 1253]]  \n",
      "4  [[11248, 6157], [926, 1253]]  \n"
     ]
    }
   ],
   "source": [
    "report = classification_report(y_val, gbt_predictions, output_dict=True)\n",
    "conf_matrix = confusion_matrix(y_val, gbt_predictions)\n",
    "\n",
    "# Extract metrics from classification report\n",
    "precision = report['weighted avg']['precision']\n",
    "recall = report['weighted avg']['recall']\n",
    "f1_score = report['weighted avg']['f1-score']\n",
    "accuracy = report['accuracy']\n",
    "\n",
    "# Create a DataFrame to store the metrics\n",
    "data = {\n",
    "    'Sampling Technique' : 'Undersampled-LGBM',\n",
    "    'Precision': precision,\n",
    "    'Recall': recall,\n",
    "    'F1 Score': f1_score,\n",
    "    'Accuracy': accuracy,\n",
    "    'Confusion Matrix': [conf_matrix]\n",
    "}\n",
    "\n",
    "df = pd.DataFrame(data)\n",
    "metrics_df = metrics_df.append(df, ignore_index=True)\n",
    "print(metrics_df)"
   ]
  },
  {
   "cell_type": "code",
   "execution_count": null,
   "id": "2e5ccee9",
   "metadata": {},
   "outputs": [],
   "source": []
  },
  {
   "cell_type": "code",
   "execution_count": 21,
   "id": "32dfb99b",
   "metadata": {},
   "outputs": [
    {
     "name": "stdout",
     "output_type": "stream",
     "text": [
      "[1]\tvalid_0's l1: 0.481273\n",
      "Training until validation scores don't improve for 10 rounds\n",
      "[2]\tvalid_0's l1: 0.46306\n",
      "[3]\tvalid_0's l1: 0.445523\n",
      "[4]\tvalid_0's l1: 0.428388\n",
      "[5]\tvalid_0's l1: 0.412876\n",
      "[6]\tvalid_0's l1: 0.398836\n",
      "[7]\tvalid_0's l1: 0.385631\n",
      "[8]\tvalid_0's l1: 0.373618\n",
      "[9]\tvalid_0's l1: 0.362689\n",
      "[10]\tvalid_0's l1: 0.352916\n",
      "[11]\tvalid_0's l1: 0.343777\n",
      "[12]\tvalid_0's l1: 0.335468\n",
      "[13]\tvalid_0's l1: 0.327837\n",
      "[14]\tvalid_0's l1: 0.320311\n",
      "[15]\tvalid_0's l1: 0.313261\n",
      "[16]\tvalid_0's l1: 0.306977\n",
      "[17]\tvalid_0's l1: 0.300955\n",
      "[18]\tvalid_0's l1: 0.296023\n",
      "[19]\tvalid_0's l1: 0.291247\n",
      "[20]\tvalid_0's l1: 0.286337\n",
      "[21]\tvalid_0's l1: 0.281495\n",
      "[22]\tvalid_0's l1: 0.277611\n",
      "[23]\tvalid_0's l1: 0.273762\n",
      "[24]\tvalid_0's l1: 0.270742\n",
      "[25]\tvalid_0's l1: 0.268166\n",
      "[26]\tvalid_0's l1: 0.265422\n",
      "[27]\tvalid_0's l1: 0.262913\n",
      "[28]\tvalid_0's l1: 0.260227\n",
      "[29]\tvalid_0's l1: 0.257709\n",
      "[30]\tvalid_0's l1: 0.255388\n",
      "[31]\tvalid_0's l1: 0.254364\n",
      "[32]\tvalid_0's l1: 0.251888\n",
      "[33]\tvalid_0's l1: 0.250725\n",
      "[34]\tvalid_0's l1: 0.248639\n",
      "[35]\tvalid_0's l1: 0.2466\n",
      "[36]\tvalid_0's l1: 0.245529\n",
      "[37]\tvalid_0's l1: 0.244072\n",
      "[38]\tvalid_0's l1: 0.24306\n",
      "[39]\tvalid_0's l1: 0.24274\n",
      "[40]\tvalid_0's l1: 0.241085\n",
      "[41]\tvalid_0's l1: 0.239676\n",
      "[42]\tvalid_0's l1: 0.238683\n",
      "[43]\tvalid_0's l1: 0.237676\n",
      "[44]\tvalid_0's l1: 0.23614\n",
      "[45]\tvalid_0's l1: 0.235152\n",
      "[46]\tvalid_0's l1: 0.234409\n",
      "[47]\tvalid_0's l1: 0.233659\n",
      "[48]\tvalid_0's l1: 0.232338\n",
      "[49]\tvalid_0's l1: 0.231296\n",
      "[50]\tvalid_0's l1: 0.230341\n",
      "[51]\tvalid_0's l1: 0.229327\n",
      "[52]\tvalid_0's l1: 0.228819\n",
      "[53]\tvalid_0's l1: 0.228181\n",
      "[54]\tvalid_0's l1: 0.228299\n",
      "[55]\tvalid_0's l1: 0.227556\n",
      "[56]\tvalid_0's l1: 0.226896\n",
      "[57]\tvalid_0's l1: 0.226007\n",
      "[58]\tvalid_0's l1: 0.225429\n",
      "[59]\tvalid_0's l1: 0.224951\n",
      "[60]\tvalid_0's l1: 0.224192\n",
      "[61]\tvalid_0's l1: 0.223851\n",
      "[62]\tvalid_0's l1: 0.223924\n",
      "[63]\tvalid_0's l1: 0.223286\n",
      "[64]\tvalid_0's l1: 0.22276\n",
      "[65]\tvalid_0's l1: 0.222075\n",
      "[66]\tvalid_0's l1: 0.22145\n",
      "[67]\tvalid_0's l1: 0.221095\n",
      "[68]\tvalid_0's l1: 0.220531\n",
      "[69]\tvalid_0's l1: 0.220131\n",
      "[70]\tvalid_0's l1: 0.21984\n",
      "[71]\tvalid_0's l1: 0.219855\n",
      "[72]\tvalid_0's l1: 0.219749\n",
      "[73]\tvalid_0's l1: 0.219242\n",
      "[74]\tvalid_0's l1: 0.218771\n",
      "[75]\tvalid_0's l1: 0.218681\n",
      "[76]\tvalid_0's l1: 0.21826\n",
      "[77]\tvalid_0's l1: 0.217735\n",
      "[78]\tvalid_0's l1: 0.21771\n",
      "[79]\tvalid_0's l1: 0.217391\n",
      "[80]\tvalid_0's l1: 0.216867\n",
      "[81]\tvalid_0's l1: 0.216706\n",
      "[82]\tvalid_0's l1: 0.216458\n",
      "[83]\tvalid_0's l1: 0.216038\n",
      "[84]\tvalid_0's l1: 0.215729\n",
      "[85]\tvalid_0's l1: 0.215582\n",
      "[86]\tvalid_0's l1: 0.215229\n",
      "[87]\tvalid_0's l1: 0.214903\n",
      "[88]\tvalid_0's l1: 0.214779\n",
      "[89]\tvalid_0's l1: 0.214475\n",
      "[90]\tvalid_0's l1: 0.214165\n",
      "[91]\tvalid_0's l1: 0.213665\n",
      "[92]\tvalid_0's l1: 0.213502\n",
      "[93]\tvalid_0's l1: 0.213314\n",
      "[94]\tvalid_0's l1: 0.21315\n",
      "[95]\tvalid_0's l1: 0.213096\n",
      "[96]\tvalid_0's l1: 0.212782\n",
      "[97]\tvalid_0's l1: 0.212359\n",
      "[98]\tvalid_0's l1: 0.212353\n",
      "[99]\tvalid_0's l1: 0.21215\n",
      "[100]\tvalid_0's l1: 0.211933\n",
      "[101]\tvalid_0's l1: 0.21182\n",
      "[102]\tvalid_0's l1: 0.21172\n",
      "[103]\tvalid_0's l1: 0.211383\n",
      "[104]\tvalid_0's l1: 0.211373\n",
      "[105]\tvalid_0's l1: 0.211195\n",
      "[106]\tvalid_0's l1: 0.211012\n",
      "[107]\tvalid_0's l1: 0.210885\n",
      "[108]\tvalid_0's l1: 0.210695\n",
      "[109]\tvalid_0's l1: 0.21037\n",
      "[110]\tvalid_0's l1: 0.210188\n",
      "[111]\tvalid_0's l1: 0.209928\n",
      "[112]\tvalid_0's l1: 0.209753\n",
      "[113]\tvalid_0's l1: 0.209743\n",
      "[114]\tvalid_0's l1: 0.209679\n",
      "[115]\tvalid_0's l1: 0.209529\n",
      "[116]\tvalid_0's l1: 0.209393\n",
      "[117]\tvalid_0's l1: 0.209165\n",
      "[118]\tvalid_0's l1: 0.209014\n",
      "[119]\tvalid_0's l1: 0.208933\n",
      "[120]\tvalid_0's l1: 0.208774\n",
      "[121]\tvalid_0's l1: 0.208765\n",
      "[122]\tvalid_0's l1: 0.208615\n",
      "[123]\tvalid_0's l1: 0.20856\n",
      "[124]\tvalid_0's l1: 0.208436\n",
      "[125]\tvalid_0's l1: 0.208341\n",
      "[126]\tvalid_0's l1: 0.208298\n",
      "[127]\tvalid_0's l1: 0.208277\n",
      "[128]\tvalid_0's l1: 0.208123\n",
      "[129]\tvalid_0's l1: 0.208089\n",
      "[130]\tvalid_0's l1: 0.208075\n",
      "[131]\tvalid_0's l1: 0.207971\n",
      "[132]\tvalid_0's l1: 0.207897\n",
      "[133]\tvalid_0's l1: 0.207877\n",
      "[134]\tvalid_0's l1: 0.207751\n",
      "[135]\tvalid_0's l1: 0.207648\n",
      "[136]\tvalid_0's l1: 0.20752\n",
      "[137]\tvalid_0's l1: 0.207313\n",
      "[138]\tvalid_0's l1: 0.207262\n",
      "[139]\tvalid_0's l1: 0.207166\n",
      "[140]\tvalid_0's l1: 0.207063\n",
      "[141]\tvalid_0's l1: 0.2069\n",
      "[142]\tvalid_0's l1: 0.206816\n",
      "[143]\tvalid_0's l1: 0.206692\n",
      "[144]\tvalid_0's l1: 0.20659\n",
      "[145]\tvalid_0's l1: 0.206433\n",
      "[146]\tvalid_0's l1: 0.206329\n",
      "[147]\tvalid_0's l1: 0.206234\n",
      "[148]\tvalid_0's l1: 0.206151\n",
      "[149]\tvalid_0's l1: 0.206076\n",
      "[150]\tvalid_0's l1: 0.205979\n",
      "[151]\tvalid_0's l1: 0.205895\n",
      "[152]\tvalid_0's l1: 0.205879\n",
      "[153]\tvalid_0's l1: 0.205788\n",
      "[154]\tvalid_0's l1: 0.205759\n",
      "[155]\tvalid_0's l1: 0.205744\n",
      "[156]\tvalid_0's l1: 0.20565\n",
      "[157]\tvalid_0's l1: 0.205637\n",
      "[158]\tvalid_0's l1: 0.205622\n",
      "[159]\tvalid_0's l1: 0.205596\n",
      "[160]\tvalid_0's l1: 0.205572\n",
      "[161]\tvalid_0's l1: 0.205513\n",
      "[162]\tvalid_0's l1: 0.205484\n",
      "[163]\tvalid_0's l1: 0.20544\n",
      "[164]\tvalid_0's l1: 0.205428\n",
      "[165]\tvalid_0's l1: 0.20533\n",
      "[166]\tvalid_0's l1: 0.205295\n",
      "[167]\tvalid_0's l1: 0.205261\n",
      "[168]\tvalid_0's l1: 0.205233\n",
      "[169]\tvalid_0's l1: 0.205212\n",
      "[170]\tvalid_0's l1: 0.205191\n",
      "[171]\tvalid_0's l1: 0.20514\n",
      "[172]\tvalid_0's l1: 0.205138\n",
      "[173]\tvalid_0's l1: 0.205092\n",
      "[174]\tvalid_0's l1: 0.205062\n",
      "[175]\tvalid_0's l1: 0.20504\n",
      "[176]\tvalid_0's l1: 0.204949\n",
      "[177]\tvalid_0's l1: 0.204923\n",
      "[178]\tvalid_0's l1: 0.204873\n",
      "[179]\tvalid_0's l1: 0.204777\n",
      "[180]\tvalid_0's l1: 0.20463\n",
      "[181]\tvalid_0's l1: 0.204545\n",
      "[182]\tvalid_0's l1: 0.204512\n",
      "[183]\tvalid_0's l1: 0.204489\n",
      "[184]\tvalid_0's l1: 0.204489\n",
      "[185]\tvalid_0's l1: 0.204445\n",
      "[186]\tvalid_0's l1: 0.204432\n",
      "[187]\tvalid_0's l1: 0.204409\n",
      "[188]\tvalid_0's l1: 0.204391\n",
      "[189]\tvalid_0's l1: 0.204373\n",
      "[190]\tvalid_0's l1: 0.204363\n",
      "[191]\tvalid_0's l1: 0.204359\n",
      "[192]\tvalid_0's l1: 0.204249\n",
      "[193]\tvalid_0's l1: 0.204203\n",
      "[194]\tvalid_0's l1: 0.20417\n",
      "[195]\tvalid_0's l1: 0.204135\n",
      "[196]\tvalid_0's l1: 0.204122\n",
      "[197]\tvalid_0's l1: 0.204114\n",
      "[198]\tvalid_0's l1: 0.204102\n",
      "[199]\tvalid_0's l1: 0.20409\n",
      "[200]\tvalid_0's l1: 0.204085\n",
      "Did not meet early stopping. Best iteration is:\n",
      "[200]\tvalid_0's l1: 0.204085\n"
     ]
    }
   ],
   "source": [
    "train_data = lgb.Dataset(X_train_smote, label=y_train_smote)\n",
    "val_data = lgb.Dataset(X_val, label=y_val)\n",
    "\n",
    "num_round = 200\n",
    "bst = lgb.train(params, train_data, num_round, valid_sets=[val_data], early_stopping_rounds=10)\n",
    "\n",
    "y_pred_proba = bst.predict(X_val)\n",
    "\n",
    "y_pred_class = [1 if pred > 0.5 else 0 for pred in y_pred_proba]"
   ]
  },
  {
   "cell_type": "code",
   "execution_count": 22,
   "id": "aebb89f5",
   "metadata": {},
   "outputs": [
    {
     "name": "stdout",
     "output_type": "stream",
     "text": [
      "              precision    recall  f1-score   support\n",
      "\n",
      "           0       0.89      1.00      0.94     17405\n",
      "           1       0.50      0.02      0.04      2179\n",
      "\n",
      "    accuracy                           0.89     19584\n",
      "   macro avg       0.70      0.51      0.49     19584\n",
      "weighted avg       0.85      0.89      0.84     19584\n",
      "\n",
      "[[17354    51]\n",
      " [ 2128    51]]\n"
     ]
    }
   ],
   "source": [
    "print(classification_report(y_val, y_pred_class, zero_division=0))\n",
    "print(confusion_matrix(y_val, y_pred_class))"
   ]
  },
  {
   "cell_type": "code",
   "execution_count": 23,
   "id": "a51a9752",
   "metadata": {
    "scrolled": true
   },
   "outputs": [
    {
     "name": "stdout",
     "output_type": "stream",
     "text": [
      "  Sampling Technique  Precision    Recall  F1 Score  Accuracy  \\\n",
      "0          Smote-RFC   0.821576  0.882557  0.839465  0.882557   \n",
      "1   Undersampled-RFC   0.838426  0.614022  0.685624  0.614022   \n",
      "2          Smote-GBT   0.812692  0.849775  0.829234  0.849775   \n",
      "3   Undersampled-GBT   0.839949  0.638327  0.704997  0.638327   \n",
      "4  Undersampled-LGBM   0.839949  0.638327  0.704997  0.638327   \n",
      "5         Smote-LGBM   0.847292  0.888736  0.841211  0.888736   \n",
      "\n",
      "               Confusion Matrix  \n",
      "0    [[17214, 191], [2109, 70]]  \n",
      "1  [[10740, 6665], [894, 1285]]  \n",
      "2   [[16439, 966], [1976, 203]]  \n",
      "3  [[11248, 6157], [926, 1253]]  \n",
      "4  [[11248, 6157], [926, 1253]]  \n",
      "5     [[17354, 51], [2128, 51]]  \n"
     ]
    }
   ],
   "source": [
    "report = classification_report(y_val, y_pred_class, output_dict=True)\n",
    "conf_matrix = confusion_matrix(y_val, y_pred_class)\n",
    "\n",
    "# Extract metrics from classification report\n",
    "precision = report['weighted avg']['precision']\n",
    "recall = report['weighted avg']['recall']\n",
    "f1_score = report['weighted avg']['f1-score']\n",
    "accuracy = report['accuracy']\n",
    "\n",
    "# Create a DataFrame to store the metrics\n",
    "data = {\n",
    "    'Sampling Technique' : 'Smote-LGBM',\n",
    "    'Precision': precision,\n",
    "    'Recall': recall,\n",
    "    'F1 Score': f1_score,\n",
    "    'Accuracy': accuracy,\n",
    "    'Confusion Matrix': [conf_matrix]\n",
    "}\n",
    "\n",
    "df = pd.DataFrame(data)\n",
    "metrics_df = metrics_df.append(df, ignore_index=True)\n",
    "print(metrics_df)"
   ]
  },
  {
   "cell_type": "code",
   "execution_count": 24,
   "id": "ebfacf6c",
   "metadata": {},
   "outputs": [],
   "source": [
    "X_train, X_val, y_train, y_val = train_test_split(X, y, test_size=0.2, random_state=42)\n",
    "X_train_smote, y_train_smote = smote.fit_resample(X_train, y_train)\n",
    "X_train_under, y_train_under = under_sampler.fit_resample(X_train, y_train)"
   ]
  },
  {
   "cell_type": "code",
   "execution_count": 25,
   "id": "d1cea468",
   "metadata": {},
   "outputs": [
    {
     "name": "stdout",
     "output_type": "stream",
     "text": [
      "              precision    recall  f1-score   support\n",
      "\n",
      "           0       0.92      0.62      0.74     17405\n",
      "           1       0.16      0.59      0.25      2179\n",
      "\n",
      "    accuracy                           0.61     19584\n",
      "   macro avg       0.54      0.60      0.50     19584\n",
      "weighted avg       0.84      0.61      0.68     19584\n",
      "\n",
      "[[10708  6697]\n",
      " [  891  1288]]\n"
     ]
    }
   ],
   "source": [
    "neg_to_pos_ratio = (y_train == 0).sum() / (y_train == 1).sum()\n",
    "params_xgb = {\n",
    "    'objective': 'binary:logistic',\n",
    "    'eval_metric': 'mae',  \n",
    "    'min_child_weight': 60, \n",
    "    'random_state': 42,\n",
    "    'max_depth': 10,\n",
    "    'verbosity': 0\n",
    "}\n",
    "\n",
    "xgb_pipeline = make_pipeline(XGBClassifier(**params_xgb))\n",
    "xgb_pipeline.fit(X_train_under, y_train_under)\n",
    "y_pred_proba_xgb = xgb_pipeline.predict_proba(X_val)[:, 1]\n",
    "y_pred_class_xgb = [1 if pred > 0.5 else 0 for pred in y_pred_proba_xgb]\n",
    "\n",
    "print(classification_report(y_val, y_pred_class_xgb, zero_division=0))\n",
    "print(confusion_matrix(y_val, y_pred_class_xgb))"
   ]
  },
  {
   "cell_type": "code",
   "execution_count": 26,
   "id": "410c7a06",
   "metadata": {},
   "outputs": [
    {
     "name": "stdout",
     "output_type": "stream",
     "text": [
      "     Sampling Technique  Precision    Recall  F1 Score  Accuracy  \\\n",
      "0             Smote-RFC   0.821576  0.882557  0.839465  0.882557   \n",
      "1      Undersampled-RFC   0.838426  0.614022  0.685624  0.614022   \n",
      "2             Smote-GBT   0.812692  0.849775  0.829234  0.849775   \n",
      "3      Undersampled-GBT   0.839949  0.638327  0.704997  0.638327   \n",
      "4     Undersampled-LGBM   0.839949  0.638327  0.704997  0.638327   \n",
      "5            Smote-LGBM   0.847292  0.888736  0.841211  0.888736   \n",
      "6  Undersampled-XGBoost   0.838413  0.612541  0.684425  0.612541   \n",
      "\n",
      "               Confusion Matrix  \n",
      "0    [[17214, 191], [2109, 70]]  \n",
      "1  [[10740, 6665], [894, 1285]]  \n",
      "2   [[16439, 966], [1976, 203]]  \n",
      "3  [[11248, 6157], [926, 1253]]  \n",
      "4  [[11248, 6157], [926, 1253]]  \n",
      "5     [[17354, 51], [2128, 51]]  \n",
      "6  [[10708, 6697], [891, 1288]]  \n"
     ]
    }
   ],
   "source": [
    "report = classification_report(y_val, y_pred_class_xgb, output_dict=True)\n",
    "conf_matrix = confusion_matrix(y_val, y_pred_class_xgb)\n",
    "\n",
    "# Extract metrics from classification report\n",
    "precision = report['weighted avg']['precision']\n",
    "recall = report['weighted avg']['recall']\n",
    "f1_score = report['weighted avg']['f1-score']\n",
    "accuracy = report['accuracy']\n",
    "\n",
    "# Create a DataFrame to store the metrics\n",
    "data = {\n",
    "    'Sampling Technique' : 'Undersampled-XGBoost',\n",
    "    'Precision': precision,\n",
    "    'Recall': recall,\n",
    "    'F1 Score': f1_score,\n",
    "    'Accuracy': accuracy,\n",
    "    'Confusion Matrix': [conf_matrix]\n",
    "}\n",
    "\n",
    "df = pd.DataFrame(data)\n",
    "metrics_df = metrics_df.append(df, ignore_index=True)\n",
    "print(metrics_df)"
   ]
  },
  {
   "cell_type": "code",
   "execution_count": 27,
   "id": "a8292f44",
   "metadata": {},
   "outputs": [
    {
     "name": "stdout",
     "output_type": "stream",
     "text": [
      "              precision    recall  f1-score   support\n",
      "\n",
      "           0       0.89      0.99      0.94     17405\n",
      "           1       0.36      0.03      0.05      2179\n",
      "\n",
      "    accuracy                           0.89     19584\n",
      "   macro avg       0.63      0.51      0.50     19584\n",
      "weighted avg       0.83      0.89      0.84     19584\n",
      "\n",
      "[[17299   106]\n",
      " [ 2119    60]]\n"
     ]
    }
   ],
   "source": [
    "neg_to_pos_ratio = (y_train == 0).sum() / (y_train == 1).sum()\n",
    "params_xgb = {\n",
    "    'objective': 'binary:logistic',\n",
    "    'eval_metric': 'mae',  \n",
    "    'min_child_weight': 60, \n",
    "    'random_state': 42,\n",
    "    'max_depth': 10,\n",
    "    'verbosity': 0\n",
    "}\n",
    "\n",
    "xgb_pipeline = make_pipeline(XGBClassifier(**params_xgb))\n",
    "xgb_pipeline.fit(X_train_smote, y_train_smote)\n",
    "y_pred_proba_xgb = xgb_pipeline.predict_proba(X_val)[:, 1]\n",
    "y_pred_class_xgb = [1 if pred > 0.5 else 0 for pred in y_pred_proba_xgb]\n",
    "\n",
    "print(classification_report(y_val, y_pred_class_xgb, zero_division=0))\n",
    "print(confusion_matrix(y_val, y_pred_class_xgb))"
   ]
  },
  {
   "cell_type": "code",
   "execution_count": 28,
   "id": "44e9f796",
   "metadata": {},
   "outputs": [
    {
     "name": "stdout",
     "output_type": "stream",
     "text": [
      "     Sampling Technique  Precision    Recall  F1 Score  Accuracy  \\\n",
      "0             Smote-RFC   0.821576  0.882557  0.839465  0.882557   \n",
      "1      Undersampled-RFC   0.838426  0.614022  0.685624  0.614022   \n",
      "2             Smote-GBT   0.812692  0.849775  0.829234  0.849775   \n",
      "3      Undersampled-GBT   0.839949  0.638327  0.704997  0.638327   \n",
      "4     Undersampled-LGBM   0.839949  0.638327  0.704997  0.638327   \n",
      "5            Smote-LGBM   0.847292  0.888736  0.841211  0.888736   \n",
      "6  Undersampled-XGBoost   0.838413  0.612541  0.684425  0.612541   \n",
      "7         Smote-XGBoost   0.831968  0.886387  0.840728  0.886387   \n",
      "\n",
      "               Confusion Matrix  \n",
      "0    [[17214, 191], [2109, 70]]  \n",
      "1  [[10740, 6665], [894, 1285]]  \n",
      "2   [[16439, 966], [1976, 203]]  \n",
      "3  [[11248, 6157], [926, 1253]]  \n",
      "4  [[11248, 6157], [926, 1253]]  \n",
      "5     [[17354, 51], [2128, 51]]  \n",
      "6  [[10708, 6697], [891, 1288]]  \n",
      "7    [[17299, 106], [2119, 60]]  \n"
     ]
    }
   ],
   "source": [
    "report = classification_report(y_val, y_pred_class_xgb, output_dict=True)\n",
    "conf_matrix = confusion_matrix(y_val, y_pred_class_xgb)\n",
    "\n",
    "# Extract metrics from classification report\n",
    "precision = report['weighted avg']['precision']\n",
    "recall = report['weighted avg']['recall']\n",
    "f1_score = report['weighted avg']['f1-score']\n",
    "accuracy = report['accuracy']\n",
    "\n",
    "# Create a DataFrame to store the metrics\n",
    "data = {\n",
    "    'Sampling Technique' : 'Smote-XGBoost',\n",
    "    'Precision': precision,\n",
    "    'Recall': recall,\n",
    "    'F1 Score': f1_score,\n",
    "    'Accuracy': accuracy,\n",
    "    'Confusion Matrix': [conf_matrix]\n",
    "}\n",
    "\n",
    "df = pd.DataFrame(data)\n",
    "metrics_df = metrics_df.append(df, ignore_index=True)\n",
    "print(metrics_df)"
   ]
  },
  {
   "cell_type": "code",
   "execution_count": null,
   "id": "543fb7fe",
   "metadata": {},
   "outputs": [],
   "source": []
  },
  {
   "cell_type": "code",
   "execution_count": 29,
   "id": "d97a1a9e",
   "metadata": {},
   "outputs": [
    {
     "name": "stdout",
     "output_type": "stream",
     "text": [
      "              precision    recall  f1-score   support\n",
      "\n",
      "           0       0.89      0.99      0.94     17405\n",
      "           1       0.36      0.03      0.05      2179\n",
      "\n",
      "    accuracy                           0.89     19584\n",
      "   macro avg       0.63      0.51      0.50     19584\n",
      "weighted avg       0.83      0.89      0.84     19584\n",
      "\n",
      "[[17299   106]\n",
      " [ 2119    60]]\n"
     ]
    }
   ],
   "source": [
    "neg_to_pos_ratio = (y_train == 0).sum() / (y_train == 1).sum()\n",
    "params_cat = {\n",
    "    'random_seed': 42,\n",
    "    'depth': 10, \n",
    "    'verbose': 0\n",
    "}\n",
    "\n",
    "catboost = CatBoostClassifier(**params_cat)\n",
    "catboost.fit(X_train_under, y_train_under)\n",
    "y_pred_proba_cat = catboost.predict_proba(X_val)[:, 1]\n",
    "y_pred_class_cat = [1 if pred > 0.5 else 0 for pred in y_pred_proba_cat]\n",
    "print(classification_report(y_val, y_pred_class_xgb, zero_division=0))\n",
    "print(confusion_matrix(y_val, y_pred_class_xgb))\n"
   ]
  },
  {
   "cell_type": "code",
   "execution_count": 30,
   "id": "aa67169b",
   "metadata": {},
   "outputs": [
    {
     "name": "stdout",
     "output_type": "stream",
     "text": [
      "      Sampling Technique  Precision    Recall  F1 Score  Accuracy  \\\n",
      "0              Smote-RFC   0.821576  0.882557  0.839465  0.882557   \n",
      "1       Undersampled-RFC   0.838426  0.614022  0.685624  0.614022   \n",
      "2              Smote-GBT   0.812692  0.849775  0.829234  0.849775   \n",
      "3       Undersampled-GBT   0.839949  0.638327  0.704997  0.638327   \n",
      "4      Undersampled-LGBM   0.839949  0.638327  0.704997  0.638327   \n",
      "5             Smote-LGBM   0.847292  0.888736  0.841211  0.888736   \n",
      "6   Undersampled-XGBoost   0.838413  0.612541  0.684425  0.612541   \n",
      "7          Smote-XGBoost   0.831968  0.886387  0.840728  0.886387   \n",
      "8  Undersampled-CatBoost   0.840270  0.617239  0.688237  0.617239   \n",
      "\n",
      "               Confusion Matrix  \n",
      "0    [[17214, 191], [2109, 70]]  \n",
      "1  [[10740, 6665], [894, 1285]]  \n",
      "2   [[16439, 966], [1976, 203]]  \n",
      "3  [[11248, 6157], [926, 1253]]  \n",
      "4  [[11248, 6157], [926, 1253]]  \n",
      "5     [[17354, 51], [2128, 51]]  \n",
      "6  [[10708, 6697], [891, 1288]]  \n",
      "7    [[17299, 106], [2119, 60]]  \n",
      "8  [[10785, 6620], [876, 1303]]  \n"
     ]
    }
   ],
   "source": [
    "report = classification_report(y_val, y_pred_class_cat, output_dict=True)\n",
    "conf_matrix = confusion_matrix(y_val, y_pred_class_cat)\n",
    "\n",
    "# Extract metrics from classification report\n",
    "precision = report['weighted avg']['precision']\n",
    "recall = report['weighted avg']['recall']\n",
    "f1_score = report['weighted avg']['f1-score']\n",
    "accuracy = report['accuracy']\n",
    "\n",
    "# Create a DataFrame to store the metrics\n",
    "data = {\n",
    "    'Sampling Technique' : 'Undersampled-CatBoost',\n",
    "    'Precision': precision,\n",
    "    'Recall': recall,\n",
    "    'F1 Score': f1_score,\n",
    "    'Accuracy': accuracy,\n",
    "    'Confusion Matrix': [conf_matrix]\n",
    "}\n",
    "\n",
    "df = pd.DataFrame(data)\n",
    "metrics_df = metrics_df.append(df, ignore_index=True)\n",
    "print(metrics_df)"
   ]
  },
  {
   "cell_type": "code",
   "execution_count": 31,
   "id": "eb893ffa",
   "metadata": {},
   "outputs": [
    {
     "name": "stdout",
     "output_type": "stream",
     "text": [
      "              precision    recall  f1-score   support\n",
      "\n",
      "           0       0.89      0.99      0.94     17405\n",
      "           1       0.36      0.03      0.05      2179\n",
      "\n",
      "    accuracy                           0.89     19584\n",
      "   macro avg       0.63      0.51      0.50     19584\n",
      "weighted avg       0.83      0.89      0.84     19584\n",
      "\n",
      "[[17299   106]\n",
      " [ 2119    60]]\n"
     ]
    }
   ],
   "source": [
    "neg_to_pos_ratio = (y_train == 0).sum() / (y_train == 1).sum()\n",
    "params_cat = {\n",
    "    'random_seed': 42,\n",
    "    'depth': 10, \n",
    "    'verbose': 0\n",
    "}\n",
    "\n",
    "catboost = CatBoostClassifier(**params_cat)\n",
    "catboost.fit(X_train_smote, y_train_smote)\n",
    "y_pred_proba_cat = catboost.predict_proba(X_val)[:, 1]\n",
    "y_pred_class_cat = [1 if pred > 0.5 else 0 for pred in y_pred_proba_cat]\n",
    "print(classification_report(y_val, y_pred_class_xgb, zero_division=0))\n",
    "print(confusion_matrix(y_val, y_pred_class_xgb))\n"
   ]
  },
  {
   "cell_type": "code",
   "execution_count": 32,
   "id": "e8f16fca",
   "metadata": {},
   "outputs": [
    {
     "name": "stdout",
     "output_type": "stream",
     "text": [
      "      Sampling Technique  Precision    Recall  F1 Score  Accuracy  \\\n",
      "0              Smote-RFC   0.821576  0.882557  0.839465  0.882557   \n",
      "1       Undersampled-RFC   0.838426  0.614022  0.685624  0.614022   \n",
      "2              Smote-GBT   0.812692  0.849775  0.829234  0.849775   \n",
      "3       Undersampled-GBT   0.839949  0.638327  0.704997  0.638327   \n",
      "4      Undersampled-LGBM   0.839949  0.638327  0.704997  0.638327   \n",
      "5             Smote-LGBM   0.847292  0.888736  0.841211  0.888736   \n",
      "6   Undersampled-XGBoost   0.838413  0.612541  0.684425  0.612541   \n",
      "7          Smote-XGBoost   0.831968  0.886387  0.840728  0.886387   \n",
      "8  Undersampled-CatBoost   0.840270  0.617239  0.688237  0.617239   \n",
      "9         Smote-CatBoost   0.844056  0.888123  0.843076  0.888123   \n",
      "\n",
      "               Confusion Matrix  \n",
      "0    [[17214, 191], [2109, 70]]  \n",
      "1  [[10740, 6665], [894, 1285]]  \n",
      "2   [[16439, 966], [1976, 203]]  \n",
      "3  [[11248, 6157], [926, 1253]]  \n",
      "4  [[11248, 6157], [926, 1253]]  \n",
      "5     [[17354, 51], [2128, 51]]  \n",
      "6  [[10708, 6697], [891, 1288]]  \n",
      "7    [[17299, 106], [2119, 60]]  \n",
      "8  [[10785, 6620], [876, 1303]]  \n",
      "9     [[17317, 88], [2103, 76]]  \n"
     ]
    }
   ],
   "source": [
    "report = classification_report(y_val, y_pred_class_cat, output_dict=True)\n",
    "conf_matrix = confusion_matrix(y_val, y_pred_class_cat)\n",
    "\n",
    "# Extract metrics from classification report\n",
    "precision = report['weighted avg']['precision']\n",
    "recall = report['weighted avg']['recall']\n",
    "f1_score = report['weighted avg']['f1-score']\n",
    "accuracy = report['accuracy']\n",
    "\n",
    "# Create a DataFrame to store the metrics\n",
    "data = {\n",
    "    'Sampling Technique' : 'Smote-CatBoost',\n",
    "    'Precision': precision,\n",
    "    'Recall': recall,\n",
    "    'F1 Score': f1_score,\n",
    "    'Accuracy': accuracy,\n",
    "    'Confusion Matrix': [conf_matrix]\n",
    "}\n",
    "\n",
    "df = pd.DataFrame(data)\n",
    "metrics_df = metrics_df.append(df, ignore_index=True)\n",
    "print(metrics_df)"
   ]
  },
  {
   "cell_type": "code",
   "execution_count": 33,
   "id": "0eb0d0ac",
   "metadata": {},
   "outputs": [
    {
     "data": {
      "text/html": [
       "<div>\n",
       "<style scoped>\n",
       "    .dataframe tbody tr th:only-of-type {\n",
       "        vertical-align: middle;\n",
       "    }\n",
       "\n",
       "    .dataframe tbody tr th {\n",
       "        vertical-align: top;\n",
       "    }\n",
       "\n",
       "    .dataframe thead th {\n",
       "        text-align: right;\n",
       "    }\n",
       "</style>\n",
       "<table border=\"1\" class=\"dataframe\">\n",
       "  <thead>\n",
       "    <tr style=\"text-align: right;\">\n",
       "      <th></th>\n",
       "      <th>Sampling Technique</th>\n",
       "      <th>Precision</th>\n",
       "      <th>Recall</th>\n",
       "      <th>F1 Score</th>\n",
       "      <th>Accuracy</th>\n",
       "      <th>Confusion Matrix</th>\n",
       "    </tr>\n",
       "  </thead>\n",
       "  <tbody>\n",
       "    <tr>\n",
       "      <th>0</th>\n",
       "      <td>Smote-RFC</td>\n",
       "      <td>0.821576</td>\n",
       "      <td>0.882557</td>\n",
       "      <td>0.839465</td>\n",
       "      <td>0.882557</td>\n",
       "      <td>[[17214, 191], [2109, 70]]</td>\n",
       "    </tr>\n",
       "    <tr>\n",
       "      <th>1</th>\n",
       "      <td>Undersampled-RFC</td>\n",
       "      <td>0.838426</td>\n",
       "      <td>0.614022</td>\n",
       "      <td>0.685624</td>\n",
       "      <td>0.614022</td>\n",
       "      <td>[[10740, 6665], [894, 1285]]</td>\n",
       "    </tr>\n",
       "    <tr>\n",
       "      <th>2</th>\n",
       "      <td>Smote-GBT</td>\n",
       "      <td>0.812692</td>\n",
       "      <td>0.849775</td>\n",
       "      <td>0.829234</td>\n",
       "      <td>0.849775</td>\n",
       "      <td>[[16439, 966], [1976, 203]]</td>\n",
       "    </tr>\n",
       "    <tr>\n",
       "      <th>3</th>\n",
       "      <td>Undersampled-GBT</td>\n",
       "      <td>0.839949</td>\n",
       "      <td>0.638327</td>\n",
       "      <td>0.704997</td>\n",
       "      <td>0.638327</td>\n",
       "      <td>[[11248, 6157], [926, 1253]]</td>\n",
       "    </tr>\n",
       "    <tr>\n",
       "      <th>4</th>\n",
       "      <td>Undersampled-LGBM</td>\n",
       "      <td>0.839949</td>\n",
       "      <td>0.638327</td>\n",
       "      <td>0.704997</td>\n",
       "      <td>0.638327</td>\n",
       "      <td>[[11248, 6157], [926, 1253]]</td>\n",
       "    </tr>\n",
       "    <tr>\n",
       "      <th>5</th>\n",
       "      <td>Smote-LGBM</td>\n",
       "      <td>0.847292</td>\n",
       "      <td>0.888736</td>\n",
       "      <td>0.841211</td>\n",
       "      <td>0.888736</td>\n",
       "      <td>[[17354, 51], [2128, 51]]</td>\n",
       "    </tr>\n",
       "    <tr>\n",
       "      <th>6</th>\n",
       "      <td>Undersampled-XGBoost</td>\n",
       "      <td>0.838413</td>\n",
       "      <td>0.612541</td>\n",
       "      <td>0.684425</td>\n",
       "      <td>0.612541</td>\n",
       "      <td>[[10708, 6697], [891, 1288]]</td>\n",
       "    </tr>\n",
       "    <tr>\n",
       "      <th>7</th>\n",
       "      <td>Smote-XGBoost</td>\n",
       "      <td>0.831968</td>\n",
       "      <td>0.886387</td>\n",
       "      <td>0.840728</td>\n",
       "      <td>0.886387</td>\n",
       "      <td>[[17299, 106], [2119, 60]]</td>\n",
       "    </tr>\n",
       "    <tr>\n",
       "      <th>8</th>\n",
       "      <td>Undersampled-CatBoost</td>\n",
       "      <td>0.840270</td>\n",
       "      <td>0.617239</td>\n",
       "      <td>0.688237</td>\n",
       "      <td>0.617239</td>\n",
       "      <td>[[10785, 6620], [876, 1303]]</td>\n",
       "    </tr>\n",
       "    <tr>\n",
       "      <th>9</th>\n",
       "      <td>Smote-CatBoost</td>\n",
       "      <td>0.844056</td>\n",
       "      <td>0.888123</td>\n",
       "      <td>0.843076</td>\n",
       "      <td>0.888123</td>\n",
       "      <td>[[17317, 88], [2103, 76]]</td>\n",
       "    </tr>\n",
       "  </tbody>\n",
       "</table>\n",
       "</div>"
      ],
      "text/plain": [
       "      Sampling Technique  Precision    Recall  F1 Score  Accuracy  \\\n",
       "0              Smote-RFC   0.821576  0.882557  0.839465  0.882557   \n",
       "1       Undersampled-RFC   0.838426  0.614022  0.685624  0.614022   \n",
       "2              Smote-GBT   0.812692  0.849775  0.829234  0.849775   \n",
       "3       Undersampled-GBT   0.839949  0.638327  0.704997  0.638327   \n",
       "4      Undersampled-LGBM   0.839949  0.638327  0.704997  0.638327   \n",
       "5             Smote-LGBM   0.847292  0.888736  0.841211  0.888736   \n",
       "6   Undersampled-XGBoost   0.838413  0.612541  0.684425  0.612541   \n",
       "7          Smote-XGBoost   0.831968  0.886387  0.840728  0.886387   \n",
       "8  Undersampled-CatBoost   0.840270  0.617239  0.688237  0.617239   \n",
       "9         Smote-CatBoost   0.844056  0.888123  0.843076  0.888123   \n",
       "\n",
       "               Confusion Matrix  \n",
       "0    [[17214, 191], [2109, 70]]  \n",
       "1  [[10740, 6665], [894, 1285]]  \n",
       "2   [[16439, 966], [1976, 203]]  \n",
       "3  [[11248, 6157], [926, 1253]]  \n",
       "4  [[11248, 6157], [926, 1253]]  \n",
       "5     [[17354, 51], [2128, 51]]  \n",
       "6  [[10708, 6697], [891, 1288]]  \n",
       "7    [[17299, 106], [2119, 60]]  \n",
       "8  [[10785, 6620], [876, 1303]]  \n",
       "9     [[17317, 88], [2103, 76]]  "
      ]
     },
     "execution_count": 33,
     "metadata": {},
     "output_type": "execute_result"
    }
   ],
   "source": [
    "metrics_df"
   ]
  },
  {
   "cell_type": "code",
   "execution_count": 36,
   "id": "d04e0c07",
   "metadata": {},
   "outputs": [
    {
     "data": {
      "image/png": "[encoded data removed]",
      "text/plain": [
       "<Figure size 720x432 with 1 Axes>"
      ]
     },
     "metadata": {
      "needs_background": "light"
     },
     "output_type": "display_data"
    }
   ],
   "source": [
    "models = metrics_df['Sampling Technique']\n",
    "accuracy = metrics_df['Accuracy']\n",
    "\n",
    "plt.figure(figsize=(10, 6))\n",
    "\n",
    "sns.pointplot(x=models, y=accuracy, color='blue', markers='o')\n",
    "\n",
    "plt.ylabel('Accuracy')\n",
    "plt.title('Accuracy by Model')\n",
    "plt.xticks(rotation=45, ha='right')\n",
    "plt.ylim(0, 1)\n",
    "plt.tight_layout()\n",
    "plt.savefig('../figs/accuracySampling.png')\n",
    "plt.show()\n"
   ]
  },
  {
   "cell_type": "code",
   "execution_count": 37,
   "id": "128e2145",
   "metadata": {},
   "outputs": [
    {
     "data": {
      "image/png": "[encoded data removed]",
      "text/plain": [
       "<Figure size 720x432 with 1 Axes>"
      ]
     },
     "metadata": {
      "needs_background": "light"
     },
     "output_type": "display_data"
    }
   ],
   "source": [
    "models = metrics_df['Sampling Technique']\n",
    "precision = metrics_df['Precision']\n",
    "\n",
    "plt.figure(figsize=(10, 6))\n",
    "\n",
    "sns.pointplot(x=models, y=precision, color='blue', markers='o')\n",
    "\n",
    "plt.ylabel('Precision')\n",
    "plt.title('Precision by Model')\n",
    "plt.xticks(rotation=45, ha='right')\n",
    "plt.ylim(0, 1)\n",
    "plt.tight_layout()\n",
    "plt.savefig('../figs/precisionSampling.png')\n",
    "plt.show()\n"
   ]
  },
  {
   "cell_type": "code",
   "execution_count": 38,
   "id": "b0873073",
   "metadata": {},
   "outputs": [
    {
     "data": {
      "image/png": "[encoded data removed]",
      "text/plain": [
       "<Figure size 720x432 with 1 Axes>"
      ]
     },
     "metadata": {
      "needs_background": "light"
     },
     "output_type": "display_data"
    }
   ],
   "source": [
    "models = metrics_df['Sampling Technique']\n",
    "recall = metrics_df['Recall']\n",
    "\n",
    "plt.figure(figsize=(10, 6))\n",
    "\n",
    "sns.pointplot(x=models, y=recall, color='blue', markers='o')\n",
    "\n",
    "plt.ylabel('Recall')\n",
    "plt.title('Recall by Model')\n",
    "plt.xticks(rotation=45, ha='right')\n",
    "plt.ylim(0, 1)\n",
    "plt.tight_layout()\n",
    "plt.savefig('../figs/recallSampling.png')\n",
    "plt.show()\n"
   ]
  },
  {
   "cell_type": "code",
   "execution_count": 39,
   "id": "6d946353",
   "metadata": {},
   "outputs": [
    {
     "data": {
      "image/png": "[encoded data removed]",
      "text/plain": [
       "<Figure size 720x432 with 1 Axes>"
      ]
     },
     "metadata": {
      "needs_background": "light"
     },
     "output_type": "display_data"
    }
   ],
   "source": [
    "models = metrics_df['Sampling Technique']\n",
    "f1 = metrics_df['F1 Score']\n",
    "\n",
    "plt.figure(figsize=(10, 6))\n",
    "\n",
    "sns.pointplot(x=models, y=f1, color='blue', markers='o')\n",
    "\n",
    "plt.ylabel('F1 Score')\n",
    "plt.title('F1 Score by Model')\n",
    "plt.xticks(rotation=45, ha='right')\n",
    "plt.ylim(0, 1)\n",
    "plt.tight_layout()\n",
    "plt.savefig('../figs/f1Sampling.png')\n",
    "plt.show()\n"
   ]
  },
  {
   "cell_type": "code",
   "execution_count": null,
   "id": "1ac18d2d",
   "metadata": {},
   "outputs": [],
   "source": []
  }
 ],
 "metadata": {
  "kernelspec": {
   "display_name": "Python 3",
   "language": "python",
   "name": "python3"
  },
  "language_info": {
   "codemirror_mode": {
    "name": "ipython",
    "version": 3
   },
   "file_extension": ".py",
   "mimetype": "text/x-python",
   "name": "python",
   "nbconvert_exporter": "python",
   "pygments_lexer": "ipython3",
   "version": "3.7.0"
  }
 },
 "nbformat": 4,
 "nbformat_minor": 5
}
